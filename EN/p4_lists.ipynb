{
  "nbformat": 4,
  "nbformat_minor": 0,
  "metadata": {
    "kernelspec": {
      "display_name": "Python 3",
      "language": "python",
      "name": "python3"
    },
    "language_info": {
      "codemirror_mode": {
        "name": "ipython",
        "version": 3
      },
      "file_extension": ".py",
      "mimetype": "text/x-python",
      "name": "python",
      "nbconvert_exporter": "python",
      "pygments_lexer": "ipython3",
      "version": "3.6.7"
    },
    "colab": {
      "name": "p4_lists.ipynb",
      "version": "0.3.2",
      "provenance": []
    }
  },
  "cells": [
    {
      "cell_type": "markdown",
      "metadata": {
        "collapsed": true,
        "id": "PSax9XbQh7aE",
        "colab_type": "text"
      },
      "source": [
        "# Lists\n",
        "\n",
        "We will now present the most fundamental type of built-in container, which is available in Python: the list. A list can be understood as a loose analogy of arrays and vectors from C++. A list can be created simply by listing its elements enclosed in square brackets and separated by commas, e.g.:"
      ]
    },
    {
      "cell_type": "code",
      "metadata": {
        "id": "XAhWFhiVh7aX",
        "colab_type": "code",
        "colab": {},
        "outputId": "34d3f657-ae90-4ecf-a3c4-c04090e85460"
      },
      "source": [
        "A = [1, 2, 3, 4, 5]\n",
        "print(A)"
      ],
      "execution_count": 0,
      "outputs": [
        {
          "output_type": "stream",
          "text": [
            "[1, 2, 3, 4, 5]\n"
          ],
          "name": "stdout"
        }
      ]
    },
    {
      "cell_type": "markdown",
      "metadata": {
        "id": "tT6QxP35h7bB",
        "colab_type": "text"
      },
      "source": [
        "As we can see, lists can be printed just as all the classical variables – directly using the ``print`` function.\n",
        "\n",
        "A list can contain arbitrary elements – even including other lists:"
      ]
    },
    {
      "cell_type": "code",
      "metadata": {
        "id": "wwoHvZs5h7bL",
        "colab_type": "code",
        "colab": {},
        "outputId": "49dc9165-6a7a-4ea2-8915-2fcf57c6566d"
      },
      "source": [
        "B = [[3, 3, 3, 4], [1, 2], [7, 7, 7]]\n",
        "print(B)"
      ],
      "execution_count": 0,
      "outputs": [
        {
          "output_type": "stream",
          "text": [
            "[[3, 3, 3, 4], [1, 2], [7, 7, 7]]\n"
          ],
          "name": "stdout"
        }
      ]
    },
    {
      "cell_type": "markdown",
      "metadata": {
        "id": "SX6Nwh2Rh7bo",
        "colab_type": "text"
      },
      "source": [
        "## Indexing\n",
        "\n",
        "Elements of a list are indexed using square brackets. Indices start at 0:"
      ]
    },
    {
      "cell_type": "code",
      "metadata": {
        "id": "dl0cVLhth7bz",
        "colab_type": "code",
        "colab": {},
        "outputId": "9247b772-1a6d-48cb-bf42-0758e54d9e80"
      },
      "source": [
        "A = [1, 2, 3, 4, 5]\n",
        "print(A[2])"
      ],
      "execution_count": 0,
      "outputs": [
        {
          "output_type": "stream",
          "text": [
            "3\n"
          ],
          "name": "stdout"
        }
      ]
    },
    {
      "cell_type": "markdown",
      "metadata": {
        "id": "uWpJoRIYh7cM",
        "colab_type": "text"
      },
      "source": [
        "Segments of a list can also be indexed – in that case one enters the first element of a segment, a colon and the end of the segment (the number of the one-past-the-last element):"
      ]
    },
    {
      "cell_type": "code",
      "metadata": {
        "id": "GgF3MB3hh7cW",
        "colab_type": "code",
        "colab": {},
        "outputId": "d1704194-7a49-4761-805d-f901506c4931"
      },
      "source": [
        "A = [1, 2, 3, 4, 5]\n",
        "print(A[1:4])"
      ],
      "execution_count": 0,
      "outputs": [
        {
          "output_type": "stream",
          "text": [
            "[2, 3, 4]\n"
          ],
          "name": "stdout"
        }
      ]
    },
    {
      "cell_type": "markdown",
      "metadata": {
        "id": "Zre-AZW7h7c5",
        "colab_type": "text"
      },
      "source": [
        "Another useful feature of lists is that one can index them from the end – this is done using negative indices. Index ``-1`` means the last element, ``-2`` the second but last etc. E.g.:"
      ]
    },
    {
      "cell_type": "code",
      "metadata": {
        "id": "nEFx3hNDh7dE",
        "colab_type": "code",
        "colab": {},
        "outputId": "f59c8340-605e-4f07-dc60-bd61462bd65a"
      },
      "source": [
        "A = [1, 2, 3, 4, 5]\n",
        "\n",
        "print(\"A = {}\\n\".format(A))\n",
        "print(\"A[-1] = {}\\n\".format(A[-1]))\n",
        "print(\"A[-2] = {}\\n\".format(A[-2]))\n",
        "print(\"A[2:-1] = {}\\n\".format(A[2:-1]))"
      ],
      "execution_count": 0,
      "outputs": [
        {
          "output_type": "stream",
          "text": [
            "A = [1, 2, 3, 4, 5]\n",
            "\n",
            "A[-1] = 5\n",
            "\n",
            "A[-2] = 4\n",
            "\n",
            "A[2:-1] = [3, 4]\n",
            "\n"
          ],
          "name": "stdout"
        }
      ]
    },
    {
      "cell_type": "markdown",
      "metadata": {
        "id": "5b4vFd07h7dk",
        "colab_type": "text"
      },
      "source": [
        "## The Length of a List\n",
        "\n",
        "The length of a list can – as with strings – be determined using function ``len``:"
      ]
    },
    {
      "cell_type": "code",
      "metadata": {
        "id": "yJhFuNn_h7ds",
        "colab_type": "code",
        "colab": {},
        "outputId": "03a6615f-f331-478f-858f-dab70ce89255"
      },
      "source": [
        "A = [1, 2, 3, 4, 5]\n",
        "print(len(A))"
      ],
      "execution_count": 0,
      "outputs": [
        {
          "output_type": "stream",
          "text": [
            "5\n"
          ],
          "name": "stdout"
        }
      ]
    },
    {
      "cell_type": "markdown",
      "metadata": {
        "id": "mpDNNxBWh7eC",
        "colab_type": "text"
      },
      "source": [
        "## Iteration through Lists\n",
        "\n",
        "The standard ``for`` loop syntax can be used to iterate through lists:"
      ]
    },
    {
      "cell_type": "code",
      "metadata": {
        "id": "RfPyFaMPh7eG",
        "colab_type": "code",
        "colab": {},
        "outputId": "f04bd976-21a7-42cd-852a-b3a83da80068"
      },
      "source": [
        "A = [1, 2, 3, 4, 5]\n",
        "\n",
        "for x in A:                         # for each element x in list A\n",
        "    print(\"Element {}\".format(x))   # print: Element x"
      ],
      "execution_count": 0,
      "outputs": [
        {
          "output_type": "stream",
          "text": [
            "Element 1\n",
            "Element 2\n",
            "Element 3\n",
            "Element 4\n",
            "Element 5\n"
          ],
          "name": "stdout"
        }
      ]
    },
    {
      "cell_type": "markdown",
      "metadata": {
        "id": "R-9F1CvNh7eQ",
        "colab_type": "text"
      },
      "source": [
        "If, during iteration, we need to know the index of the element, we can use ``enumerate``:"
      ]
    },
    {
      "cell_type": "code",
      "metadata": {
        "id": "cCKSq2gPh7eU",
        "colab_type": "code",
        "colab": {},
        "outputId": "a4cb095f-ab28-481c-917e-be71bb7beca4"
      },
      "source": [
        "A = [1, 2, 3, 4, 5]\n",
        "\n",
        "for i, x in enumerate(A):\n",
        "    print(\"Element {} = {}\".format(i, x))"
      ],
      "execution_count": 0,
      "outputs": [
        {
          "output_type": "stream",
          "text": [
            "Element 0 = 1\n",
            "Element 1 = 2\n",
            "Element 2 = 3\n",
            "Element 3 = 4\n",
            "Element 4 = 5\n"
          ],
          "name": "stdout"
        }
      ]
    },
    {
      "cell_type": "markdown",
      "metadata": {
        "id": "37Lvt-Fih7ee",
        "colab_type": "text"
      },
      "source": [
        "Similarly, if we want to iterate through two lists in parallel, we can again use ``zip``:"
      ]
    },
    {
      "cell_type": "code",
      "metadata": {
        "id": "LiIzeUzth7eg",
        "colab_type": "code",
        "colab": {},
        "outputId": "2ae00c9e-bcc5-43db-95e1-32956d753c51"
      },
      "source": [
        "A = [1, 2, 3, 4, 5]\n",
        "B = ['a', 'b', 'c', 'd', 'e']\n",
        "\n",
        "for a, b in zip(A, B):\n",
        "    print(a, b)"
      ],
      "execution_count": 0,
      "outputs": [
        {
          "output_type": "stream",
          "text": [
            "1 a\n",
            "2 b\n",
            "3 c\n",
            "4 d\n",
            "5 e\n"
          ],
          "name": "stdout"
        }
      ]
    },
    {
      "cell_type": "markdown",
      "metadata": {
        "id": "EUA1RiIzh7eo",
        "colab_type": "text"
      },
      "source": [
        "Both functions can also be combined:"
      ]
    },
    {
      "cell_type": "code",
      "metadata": {
        "id": "58A97sESh7ep",
        "colab_type": "code",
        "colab": {},
        "outputId": "736022ac-efbf-4392-a819-e6b8f4f3c4ab"
      },
      "source": [
        "A = [1, 2, 3, 4, 5]\n",
        "B = ['a', 'b', 'c', 'd', 'e']\n",
        "\n",
        "for i, (a, b) in enumerate(zip(A, B)):\n",
        "    print(i, a, b)"
      ],
      "execution_count": 0,
      "outputs": [
        {
          "output_type": "stream",
          "text": [
            "0 1 a\n",
            "1 2 b\n",
            "2 3 c\n",
            "3 4 d\n",
            "4 5 e\n"
          ],
          "name": "stdout"
        }
      ]
    },
    {
      "cell_type": "markdown",
      "metadata": {
        "id": "wAqrzSS3h7ew",
        "colab_type": "text"
      },
      "source": [
        "A similar auxiliary function exists for iteration in reverse order – i.e. from the last element to the first. It is called ``reversed`` and it can be used as follows:"
      ]
    },
    {
      "cell_type": "code",
      "metadata": {
        "id": "3CjnPuVyh7ex",
        "colab_type": "code",
        "colab": {},
        "outputId": "5f793533-8c50-4b19-efd0-8920e28c0052"
      },
      "source": [
        "A = [1, 2, 3, 4, 5]\n",
        "\n",
        "for a in reversed(A):\n",
        "    print(a)"
      ],
      "execution_count": 0,
      "outputs": [
        {
          "output_type": "stream",
          "text": [
            "5\n",
            "4\n",
            "3\n",
            "2\n",
            "1\n"
          ],
          "name": "stdout"
        }
      ]
    },
    {
      "cell_type": "markdown",
      "metadata": {
        "id": "jHJ-1HtNh7e6",
        "colab_type": "text"
      },
      "source": [
        "## Operator ``+``\n",
        "\n",
        "Lists can be concatenated using operator ``+``:"
      ]
    },
    {
      "cell_type": "code",
      "metadata": {
        "id": "QHdnnU_Eh7e8",
        "colab_type": "code",
        "colab": {},
        "outputId": "6f3e4e9f-2e0a-42d4-809c-d0bf4a8b8eb3"
      },
      "source": [
        "A = [1, 2, 3, 4, 5]\n",
        "B = [6, 7, 8, 9, 10]\n",
        "\n",
        "C = A + B\n",
        "\n",
        "print(C)"
      ],
      "execution_count": 0,
      "outputs": [
        {
          "output_type": "stream",
          "text": [
            "[1, 2, 3, 4, 5, 6, 7, 8, 9, 10]\n"
          ],
          "name": "stdout"
        }
      ]
    },
    {
      "cell_type": "markdown",
      "metadata": {
        "id": "IB4fnkwuh7fB",
        "colab_type": "text"
      },
      "source": [
        "## An Empty List\n",
        "\n",
        "It is also possible to create an empty list:"
      ]
    },
    {
      "cell_type": "code",
      "metadata": {
        "id": "Ibpy7arWh7fE",
        "colab_type": "code",
        "colab": {},
        "outputId": "ea1044c4-6401-4009-cde0-93808763571a"
      },
      "source": [
        "A = []\n",
        "print(A)\n",
        "\n",
        "A2 = list()\n",
        "print(A2)"
      ],
      "execution_count": 0,
      "outputs": [
        {
          "output_type": "stream",
          "text": [
            "[]\n",
            "[]\n"
          ],
          "name": "stdout"
        }
      ]
    },
    {
      "cell_type": "markdown",
      "metadata": {
        "id": "6ifQpd9-h7fM",
        "colab_type": "text"
      },
      "source": [
        "## Adding New Elements\n",
        "\n",
        "New elements can be appended to the end of a list using function ``append``:"
      ]
    },
    {
      "cell_type": "code",
      "metadata": {
        "id": "gH9Uvl4wh7fN",
        "colab_type": "code",
        "colab": {},
        "outputId": "89a24a78-474a-46b3-c3c5-5bae0c226a82"
      },
      "source": [
        "A = []\n",
        "A.append(1)\n",
        "A.append(2)\n",
        "\n",
        "print(A)"
      ],
      "execution_count": 0,
      "outputs": [
        {
          "output_type": "stream",
          "text": [
            "[1, 2]\n"
          ],
          "name": "stdout"
        }
      ]
    },
    {
      "cell_type": "markdown",
      "metadata": {
        "id": "BYH5LPClh7fW",
        "colab_type": "text"
      },
      "source": [
        "If we want to add multiple elements at once, we can use function ``extend``:"
      ]
    },
    {
      "cell_type": "code",
      "metadata": {
        "id": "qoSzDU6Ch7fZ",
        "colab_type": "code",
        "colab": {},
        "outputId": "55b65401-6d3e-41bf-8762-36b2e0154527"
      },
      "source": [
        "A = [1, 2]\n",
        "A.extend([3, 4, 5])\n",
        "\n",
        "print(A)"
      ],
      "execution_count": 0,
      "outputs": [
        {
          "output_type": "stream",
          "text": [
            "[1, 2, 3, 4, 5]\n"
          ],
          "name": "stdout"
        }
      ]
    },
    {
      "cell_type": "markdown",
      "metadata": {
        "id": "j_lRpm-zh7fh",
        "colab_type": "text"
      },
      "source": [
        "If we used function ``append``, the entire list would be added as a single element:"
      ]
    },
    {
      "cell_type": "code",
      "metadata": {
        "id": "ExyWwZn0h7fj",
        "colab_type": "code",
        "colab": {},
        "outputId": "366bc0ba-3006-42aa-9d69-7aeb1b0ea417"
      },
      "source": [
        "A = [1, 2]\n",
        "A.append([3, 4, 5])\n",
        "\n",
        "print(A)"
      ],
      "execution_count": 0,
      "outputs": [
        {
          "output_type": "stream",
          "text": [
            "[1, 2, [3, 4, 5]]\n"
          ],
          "name": "stdout"
        }
      ]
    },
    {
      "cell_type": "markdown",
      "metadata": {
        "id": "YbJ6rKdEh7fr",
        "colab_type": "text"
      },
      "source": [
        "Elements can be inserted into the middle of a list. We will use function ``insert`` – its first argument is the position before which the new element is to be inserted:"
      ]
    },
    {
      "cell_type": "code",
      "metadata": {
        "id": "kT3pkmwAh7ft",
        "colab_type": "code",
        "colab": {},
        "outputId": "d67f64e5-1b7e-4762-82cb-46f7883176fa"
      },
      "source": [
        "A = [1, 2, 3]\n",
        "A.insert(2, 11)\n",
        "\n",
        "print(A)"
      ],
      "execution_count": 0,
      "outputs": [
        {
          "output_type": "stream",
          "text": [
            "[1, 2, 11, 3]\n"
          ],
          "name": "stdout"
        }
      ]
    },
    {
      "cell_type": "markdown",
      "metadata": {
        "id": "3taLvnJyh7f8",
        "colab_type": "text"
      },
      "source": [
        "## Deleting Elements\n",
        "\n",
        "Elements can be deleted from a list using the keyword ``del``. It is only necessary to index them first in the standard way:"
      ]
    },
    {
      "cell_type": "code",
      "metadata": {
        "id": "GliXnK2Ph7f_",
        "colab_type": "code",
        "colab": {},
        "outputId": "f73ca2f9-1e04-41ec-fc7f-471ece0c31ac"
      },
      "source": [
        "A = [1, 2, 3]\n",
        "del A[1]\n",
        "\n",
        "print(A)"
      ],
      "execution_count": 0,
      "outputs": [
        {
          "output_type": "stream",
          "text": [
            "[1, 3]\n"
          ],
          "name": "stdout"
        }
      ]
    },
    {
      "cell_type": "markdown",
      "metadata": {
        "collapsed": true,
        "id": "8alBXVY2h7gG",
        "colab_type": "text"
      },
      "source": [
        "## List Comprehensions\n",
        "\n",
        "Lists can also be created using single-line statements called *list comprehensions*:"
      ]
    },
    {
      "cell_type": "code",
      "metadata": {
        "scrolled": true,
        "id": "iLZ06hY2h7gH",
        "colab_type": "code",
        "colab": {},
        "outputId": "e2b75254-c8c0-45f1-e492-882f70c3480e"
      },
      "source": [
        "# For each i in [0, 10), i squared will be added into the list:\n",
        "L = [x**2 for x in range(10)] \n",
        "print(L)"
      ],
      "execution_count": 0,
      "outputs": [
        {
          "output_type": "stream",
          "text": [
            "[0, 1, 4, 9, 16, 25, 36, 49, 64, 81]\n"
          ],
          "name": "stdout"
        }
      ]
    },
    {
      "cell_type": "code",
      "metadata": {
        "id": "l2FTIizUiAMM",
        "colab_type": "code",
        "colab": {}
      },
      "source": [
        ""
      ],
      "execution_count": 0,
      "outputs": []
    }
  ]
}