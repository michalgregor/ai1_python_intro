{
  "nbformat": 4,
  "nbformat_minor": 0,
  "metadata": {
    "kernelspec": {
      "display_name": "Python 3",
      "language": "python",
      "name": "python3"
    },
    "language_info": {
      "codemirror_mode": {
        "name": "ipython",
        "version": 3
      },
      "file_extension": ".py",
      "mimetype": "text/x-python",
      "name": "python",
      "nbconvert_exporter": "python",
      "pygments_lexer": "ipython3",
      "version": "3.6.7"
    },
    "colab": {
      "name": "p3_modules.ipynb",
      "version": "0.3.2",
      "provenance": [],
      "collapsed_sections": []
    }
  },
  "cells": [
    {
      "cell_type": "markdown",
      "metadata": {
        "id": "G73OCUGDhzc9",
        "colab_type": "text"
      },
      "source": [
        "# Importing Modules\n",
        "\n",
        "There is a large number of Python packages with useful functionality. At present, Python is the de-facto language of artificial intelligence and machine learning. Once a package is installed, it is only necessary to import it as a module using the keyword ``import``. For an instance, module ``numpy`` can be imported as follows:"
      ]
    },
    {
      "cell_type": "code",
      "metadata": {
        "id": "8aEEVV4ihzdW",
        "colab_type": "code",
        "colab": {}
      },
      "source": [
        "import numpy"
      ],
      "execution_count": 0,
      "outputs": []
    },
    {
      "cell_type": "markdown",
      "metadata": {
        "id": "svEN4_muhzeK",
        "colab_type": "text"
      },
      "source": [
        "After importing the module, we can refer to its functions. The ``numpy`` module contains a wide range of numeric functions, tools for handling arrays and matrices and more. To compute the sine function, for an instance, we can use ``numpy`` as follows:"
      ]
    },
    {
      "cell_type": "code",
      "metadata": {
        "id": "57tv8k4KhzeR",
        "colab_type": "code",
        "colab": {},
        "outputId": "25a8d5ac-5ae8-4594-8eef-f44620c13e04"
      },
      "source": [
        "import numpy\n",
        "\n",
        "print(numpy.sin(15))"
      ],
      "execution_count": 0,
      "outputs": [
        {
          "output_type": "stream",
          "text": [
            "0.6502878401571168\n"
          ],
          "name": "stdout"
        }
      ]
    },
    {
      "cell_type": "markdown",
      "metadata": {
        "id": "W2cIwit8hzeh",
        "colab_type": "text"
      },
      "source": [
        "It is often useful to import a module under some alternative, shortened name. It is possible to do this as follows:"
      ]
    },
    {
      "cell_type": "code",
      "metadata": {
        "id": "7zS9HeQ8hzej",
        "colab_type": "code",
        "colab": {},
        "outputId": "9cea793b-0dee-4129-f1a4-3f3461626785"
      },
      "source": [
        "import numpy as np\n",
        "\n",
        "print(np.sin(15))"
      ],
      "execution_count": 0,
      "outputs": [
        {
          "output_type": "stream",
          "text": [
            "0.6502878401571168\n"
          ],
          "name": "stdout"
        }
      ]
    },
    {
      "cell_type": "markdown",
      "metadata": {
        "id": "5SHq6rEThze0",
        "colab_type": "text"
      },
      "source": [
        "It is also possible to import particular functions from modules into the current namespace. Then we do not need to refer to them using the package name at all, e.g.:"
      ]
    },
    {
      "cell_type": "code",
      "metadata": {
        "id": "m12Vph-1hze3",
        "colab_type": "code",
        "colab": {},
        "outputId": "2e301190-aa0a-4b83-80ca-efd7f148f1fd"
      },
      "source": [
        "from numpy import sin\n",
        "\n",
        "print(sin(15))"
      ],
      "execution_count": 0,
      "outputs": [
        {
          "output_type": "stream",
          "text": [
            "0.6502878401571168\n"
          ],
          "name": "stdout"
        }
      ]
    },
    {
      "cell_type": "markdown",
      "metadata": {
        "id": "QhgPcoFchzfB",
        "colab_type": "text"
      },
      "source": [
        "We can also import everything from a module, but this alternative is rarely to be used, because it can easily result in confusing and unmaintainable code (a function with the same identifier can easily exist in multiple modules, which can lead to unforeseen clashes, functions rewriting each other and so on):"
      ]
    },
    {
      "cell_type": "code",
      "metadata": {
        "id": "gR1qivT1hzfE",
        "colab_type": "code",
        "colab": {},
        "outputId": "c5a90040-be3d-4291-b143-5f129f32d80b"
      },
      "source": [
        "from numpy import *\n",
        "\n",
        "print(cos(15))"
      ],
      "execution_count": 0,
      "outputs": [
        {
          "output_type": "stream",
          "text": [
            "-0.759687912859\n"
          ],
          "name": "stdout"
        }
      ]
    },
    {
      "cell_type": "markdown",
      "metadata": {
        "id": "B0WqT7U1hzfQ",
        "colab_type": "text"
      },
      "source": [
        "<div style=\"background-color: #C2EB66; padding: 15px; padding-top: 5px; margin-top: 10px; margin-left:-15px\">\n",
        "<h2>Task</h2>\n",
        "\n",
        "Use module ``numpy`` to create code, which will print the hyperbolic tangent of number 0.95.\n",
        "</div>\n",
        "\n",
        "An aid: [numpy documentation](http://lmgtfy.com/?q=numpy+docs) for those, who cannot use google. :)"
      ]
    },
    {
      "cell_type": "code",
      "metadata": {
        "id": "j70FTY6LhzfS",
        "colab_type": "code",
        "colab": {}
      },
      "source": [
        ""
      ],
      "execution_count": 0,
      "outputs": []
    }
  ]
}