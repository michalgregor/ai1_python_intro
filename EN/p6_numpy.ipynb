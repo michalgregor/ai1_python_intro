{
  "nbformat": 4,
  "nbformat_minor": 0,
  "metadata": {
    "kernelspec": {
      "display_name": "Python 3",
      "language": "python",
      "name": "python3"
    },
    "language_info": {
      "codemirror_mode": {
        "name": "ipython",
        "version": 3
      },
      "file_extension": ".py",
      "mimetype": "text/x-python",
      "name": "python",
      "nbconvert_exporter": "python",
      "pygments_lexer": "ipython3",
      "version": "3.6.7"
    },
    "colab": {
      "name": "p6_numpy.ipynb",
      "version": "0.3.2",
      "provenance": [],
      "collapsed_sections": []
    }
  },
  "cells": [
    {
      "cell_type": "markdown",
      "metadata": {
        "id": "zJ_L2jGhiQEX",
        "colab_type": "text"
      },
      "source": [
        "# The ``numpy`` Package\n",
        "\n",
        "We have already mentioned the ``numpy`` package in one of our notebooks. It is one of the most commonly used Python packages. It includes n-dimensional arrays, matrices, it implements the basic mathematical operations over them etc.\n",
        "\n",
        "## Creation a New ``numpy`` Array\n",
        "\n",
        "When using the ``numpy`` package, the first step is to import is, of course. The package is usually imported under the shortened name ``np``. Arrays can then be created using function ``array``, which receives a Python list as an argument, e.g.:"
      ]
    },
    {
      "cell_type": "code",
      "metadata": {
        "id": "AUxp0PfKiQEg",
        "colab_type": "code",
        "colab": {},
        "outputId": "591d74ec-04a2-4152-e864-f7d76e7e87d1"
      },
      "source": [
        "import numpy as np\n",
        "\n",
        "A = np.array([[1, 2.5, 3], [4, 5, 6], [7, 8, 9]])\n",
        "\n",
        "print(A)"
      ],
      "execution_count": 0,
      "outputs": [
        {
          "output_type": "stream",
          "text": [
            "[[1.  2.5 3. ]\n",
            " [4.  5.  6. ]\n",
            " [7.  8.  9. ]]\n"
          ],
          "name": "stdout"
        }
      ]
    },
    {
      "cell_type": "markdown",
      "metadata": {
        "id": "lkHUT0xYiQEz",
        "colab_type": "text"
      },
      "source": [
        "## Creating Special Arrays\n",
        "\n",
        "There are several built-in function, which enable easier creation of commonly used special arrays. The shape of the array is passed in a list – ``[2, 2]`` – or as a tuple – ``(2, 2)``:"
      ]
    },
    {
      "cell_type": "code",
      "metadata": {
        "id": "8nm6N0T0iQE3",
        "colab_type": "code",
        "colab": {},
        "outputId": "8bc1bb30-cd7e-41e9-c8ef-bfd283ec8587"
      },
      "source": [
        "# Creating an all-zeros array.\n",
        "A = np.zeros((3, 4))\n",
        "print(\"A = \\n{}\\n\".format(A))\n",
        "\n",
        "# Creating an all-ones array.\n",
        "B = np.ones((3, 4))\n",
        "print(\"B = \\n{}\\n\".format(B))\n",
        "\n",
        "# Creating an array filled with a constant.\n",
        "C = np.full((3, 4), 7)\n",
        "print(\"C = \\n{}\\n\".format(C))\n",
        "\n",
        "# Creating a square matrix with ones at\n",
        "#the diagonal and zeros elsewhere.\n",
        "D = np.eye(4)\n",
        "print(\"D = \\n{}\\n\".format(D))"
      ],
      "execution_count": 0,
      "outputs": [
        {
          "output_type": "stream",
          "text": [
            "A = \n",
            "[[0. 0. 0. 0.]\n",
            " [0. 0. 0. 0.]\n",
            " [0. 0. 0. 0.]]\n",
            "\n",
            "B = \n",
            "[[1. 1. 1. 1.]\n",
            " [1. 1. 1. 1.]\n",
            " [1. 1. 1. 1.]]\n",
            "\n",
            "C = \n",
            "[[7 7 7 7]\n",
            " [7 7 7 7]\n",
            " [7 7 7 7]]\n",
            "\n",
            "D = \n",
            "[[1. 0. 0. 0.]\n",
            " [0. 1. 0. 0.]\n",
            " [0. 0. 1. 0.]\n",
            " [0. 0. 0. 1.]]\n",
            "\n"
          ],
          "name": "stdout"
        }
      ]
    },
    {
      "cell_type": "markdown",
      "metadata": {
        "id": "ZCTVQcTPiQFD",
        "colab_type": "text"
      },
      "source": [
        "Arrays can also be higher-dimensional, e.g.:"
      ]
    },
    {
      "cell_type": "code",
      "metadata": {
        "id": "h4De9t8ziQFG",
        "colab_type": "code",
        "colab": {},
        "outputId": "239a81e6-d586-4fb8-bd10-0a597c82e70f"
      },
      "source": [
        "A = np.zeros([2, 2, 3])\n",
        "print(A)"
      ],
      "execution_count": 0,
      "outputs": [
        {
          "output_type": "stream",
          "text": [
            "[[[0. 0. 0.]\n",
            "  [0. 0. 0.]]\n",
            "\n",
            " [[0. 0. 0.]\n",
            "  [0. 0. 0.]]]\n"
          ],
          "name": "stdout"
        }
      ]
    },
    {
      "cell_type": "markdown",
      "metadata": {
        "id": "gjgpJK_aiQFY",
        "colab_type": "text"
      },
      "source": [
        "There are also functions, which can create random arrays:"
      ]
    },
    {
      "cell_type": "code",
      "metadata": {
        "id": "1FHiWNXiiQFa",
        "colab_type": "code",
        "colab": {},
        "outputId": "241dba08-8288-426d-fc2c-97a1d41e680a"
      },
      "source": [
        "# A 3x3 array with random elements from interval [0, 5).\n",
        "A = np.random.uniform(0, 5, (3, 3))\n",
        "print(A)"
      ],
      "execution_count": 0,
      "outputs": [
        {
          "output_type": "stream",
          "text": [
            "[[3.32587154 2.2922609  1.08885542]\n",
            " [2.05155621 3.71746057 3.47356696]\n",
            " [1.81157135 1.5122476  3.12230748]]\n"
          ],
          "name": "stdout"
        }
      ]
    },
    {
      "cell_type": "markdown",
      "metadata": {
        "id": "XpcwammeiQFk",
        "colab_type": "text"
      },
      "source": [
        "## Indexing Elements of an Array\n",
        "\n",
        "The individual elements of an array are indexed by listing their coordinates separated by commas in square brackets:"
      ]
    },
    {
      "cell_type": "code",
      "metadata": {
        "id": "PlkrVxoliQFn",
        "colab_type": "code",
        "colab": {},
        "outputId": "30c39ba4-87de-49a1-f17d-8a485558e040"
      },
      "source": [
        "A = np.array([[1, 2, 3], [4, 5, 6]])\n",
        "print(\"A = \\n{}\\n\".format(A))\n",
        "\n",
        "a = A[0, 0]\n",
        "print(\"A[0, 0] = {}\".format(a))\n",
        "\n",
        "b = A[0, 1]\n",
        "print(\"A[0, 1] = {}\".format(b))"
      ],
      "execution_count": 0,
      "outputs": [
        {
          "output_type": "stream",
          "text": [
            "A = \n",
            "[[1 2 3]\n",
            " [4 5 6]]\n",
            "\n",
            "A[0, 0] = 1\n",
            "A[0, 1] = 2\n"
          ],
          "name": "stdout"
        }
      ]
    },
    {
      "cell_type": "markdown",
      "metadata": {
        "id": "V6-BGm5CiQFx",
        "colab_type": "text"
      },
      "source": [
        "A colon ``:`` can be sued to address a segment of elements along a certain dimension:"
      ]
    },
    {
      "cell_type": "code",
      "metadata": {
        "id": "E_oJOHcliQFz",
        "colab_type": "code",
        "colab": {},
        "outputId": "5428091f-91da-405a-9391-4ce5212b4ea4"
      },
      "source": [
        "A = np.array([[1, 2, 3], [4, 5, 6]])\n",
        "print(\"A = \\n{}\\n\".format(A))\n",
        "\n",
        "a = A[:2, 1]\n",
        "print(\"A[:2, 1] = {}\\n\".format(a))\n",
        "\n",
        "b = A[:, 0]\n",
        "print(\"A[:, 0] = {}\\n\".format(b))\n",
        "\n",
        "c = A[:2, :2]\n",
        "print(\"A[:2, :2] = \\n{}\".format(c))"
      ],
      "execution_count": 0,
      "outputs": [
        {
          "output_type": "stream",
          "text": [
            "A = \n",
            "[[1 2 3]\n",
            " [4 5 6]]\n",
            "\n",
            "A[:2, 1] = [2 5]\n",
            "\n",
            "A[:, 0] = [1 4]\n",
            "\n",
            "A[:2, :2] = \n",
            "[[1 2]\n",
            " [4 5]]\n"
          ],
          "name": "stdout"
        }
      ]
    },
    {
      "cell_type": "markdown",
      "metadata": {
        "id": "htcMxAcbiQF7",
        "colab_type": "text"
      },
      "source": [
        "In a way similar to lists, ``numpy`` array also support indexing from the end on the array using negative indices."
      ]
    },
    {
      "cell_type": "markdown",
      "metadata": {
        "id": "0OSBqGkWiQF9",
        "colab_type": "text"
      },
      "source": [
        "## The Shape of an Array\n",
        "\n",
        "Each array has a certain shape; it can be determined using attribute ``.shape``:"
      ]
    },
    {
      "cell_type": "code",
      "metadata": {
        "id": "vtIVD_VNiQF_",
        "colab_type": "code",
        "colab": {},
        "outputId": "58669589-2b2e-49a2-bc6c-e9c3ee06dfec"
      },
      "source": [
        "A = np.zeros([2, 2, 3])\n",
        "print(A.shape)"
      ],
      "execution_count": 0,
      "outputs": [
        {
          "output_type": "stream",
          "text": [
            "(2, 2, 3)\n"
          ],
          "name": "stdout"
        }
      ]
    },
    {
      "cell_type": "markdown",
      "metadata": {
        "id": "rebBl-6aiQGH",
        "colab_type": "text"
      },
      "source": [
        "The shape of an array can be modified using function ``np.reshape``:"
      ]
    },
    {
      "cell_type": "code",
      "metadata": {
        "id": "vlSqV4H8iQGJ",
        "colab_type": "code",
        "colab": {},
        "outputId": "cf8912e7-ef61-4df2-cc49-4914b9981ac6"
      },
      "source": [
        "A = np.zeros([2, 2, 3])\n",
        "print(\"A.shape: {}\".format(A.shape))\n",
        "\n",
        "B = np.reshape(A, [3, 2, 2])\n",
        "print(\"B.shape: {}\".format(B.shape))\n",
        "\n",
        "# The size in one dimension can be computed automatically,\n",
        "# if we enter -1 instead of it.\n",
        "C = np.reshape(A, [3, -1, 2])\n",
        "print(\"C.shape: {}\".format(C.shape))"
      ],
      "execution_count": 0,
      "outputs": [
        {
          "output_type": "stream",
          "text": [
            "A.shape: (2, 2, 3)\n",
            "B.shape: (3, 2, 2)\n",
            "C.shape: (3, 2, 2)\n"
          ],
          "name": "stdout"
        }
      ]
    },
    {
      "cell_type": "markdown",
      "metadata": {
        "id": "1936O_mKiQGR",
        "colab_type": "text"
      },
      "source": [
        "An array can be transposed using function ``.transpose``:"
      ]
    },
    {
      "cell_type": "code",
      "metadata": {
        "id": "df2MuHPkiQGT",
        "colab_type": "code",
        "colab": {},
        "outputId": "70a041df-0740-4891-f748-271827172bcc"
      },
      "source": [
        "A = np.array([[1, 2, 3], [4, 5, 6]])\n",
        "print(\"A = \\n{}\\n\".format(A))\n",
        "\n",
        "AT = A.transpose()\n",
        "print(\"AT = \\n{}\\n\".format(AT))"
      ],
      "execution_count": 0,
      "outputs": [
        {
          "output_type": "stream",
          "text": [
            "A = \n",
            "[[1 2 3]\n",
            " [4 5 6]]\n",
            "\n",
            "AT = \n",
            "[[1 4]\n",
            " [2 5]\n",
            " [3 6]]\n",
            "\n"
          ],
          "name": "stdout"
        }
      ]
    },
    {
      "cell_type": "markdown",
      "metadata": {
        "id": "f3NWrX8UiQGZ",
        "colab_type": "text"
      },
      "source": [
        "## Arithmetic Operations with Arrays\n",
        "\n",
        "Arrays support the basic arithmetic operations, such as addition or multiplication. These all operate element-wise:"
      ]
    },
    {
      "cell_type": "code",
      "metadata": {
        "id": "TXqeipPJiQGb",
        "colab_type": "code",
        "colab": {},
        "outputId": "40902877-a745-4a15-88b7-f8f34c318e72"
      },
      "source": [
        "A = np.array([[1, 2, 3], [4, 5, 6]])\n",
        "B = np.array([[6, 5, 4], [3, 2, 1]])\n",
        "print(\"A = \\n{}\\n\".format(A))\n",
        "print(\"B = \\n{}\\n\".format(B))\n",
        "\n",
        "# Element-wise addition:\n",
        "C = A + B\n",
        "print(\"A + B = \\n{}\\n\".format(C))\n",
        "\n",
        "# Element-wise subtraction:\n",
        "C = A - B\n",
        "print(\"A - B = \\n{}\\n\".format(C))\n",
        "\n",
        "# Element-wise multiplication:\n",
        "C = A * B\n",
        "print(\"A * B = \\n{}\\n\".format(C))\n",
        "\n",
        "# Element-wise division:\n",
        "C = A / B\n",
        "print(\"A / B = \\n{}\\n\".format(C))"
      ],
      "execution_count": 0,
      "outputs": [
        {
          "output_type": "stream",
          "text": [
            "A = \n",
            "[[1 2 3]\n",
            " [4 5 6]]\n",
            "\n",
            "B = \n",
            "[[6 5 4]\n",
            " [3 2 1]]\n",
            "\n",
            "A + B = \n",
            "[[7 7 7]\n",
            " [7 7 7]]\n",
            "\n",
            "A - B = \n",
            "[[-5 -3 -1]\n",
            " [ 1  3  5]]\n",
            "\n",
            "A * B = \n",
            "[[ 6 10 12]\n",
            " [12 10  6]]\n",
            "\n",
            "A / B = \n",
            "[[0.16666667 0.4        0.75      ]\n",
            " [1.33333333 2.5        6.        ]]\n",
            "\n"
          ],
          "name": "stdout"
        }
      ]
    },
    {
      "cell_type": "markdown",
      "metadata": {
        "id": "hg07WTRgiQGi",
        "colab_type": "text"
      },
      "source": [
        "The ``numpy`` package also contains version of some standard mathematical function, such as ``sin``, ``cos`` or ``exp``, which can operate on arrays:"
      ]
    },
    {
      "cell_type": "code",
      "metadata": {
        "id": "ry4lmtvwiQGk",
        "colab_type": "code",
        "colab": {},
        "outputId": "672b33a0-c66b-40c7-b82c-bec63467a9cf"
      },
      "source": [
        "A = np.array([[1, 2, 3], [4, 5, 6]])\n",
        "print(\"A = \\n{}\\n\".format(A))\n",
        "\n",
        "sinA = np.sin(A)\n",
        "print(\"sin(A) = \\n{}\\n\".format(sinA))\n",
        "\n",
        "expA = np.exp(A)\n",
        "print(\"exp(A) = \\n{}\\n\".format(expA))"
      ],
      "execution_count": 0,
      "outputs": [
        {
          "output_type": "stream",
          "text": [
            "A = \n",
            "[[1 2 3]\n",
            " [4 5 6]]\n",
            "\n",
            "sin(A) = \n",
            "[[ 0.84147098  0.90929743  0.14112001]\n",
            " [-0.7568025  -0.95892427 -0.2794155 ]]\n",
            "\n",
            "exp(A) = \n",
            "[[  2.71828183   7.3890561   20.08553692]\n",
            " [ 54.59815003 148.4131591  403.42879349]]\n",
            "\n"
          ],
          "name": "stdout"
        }
      ]
    },
    {
      "cell_type": "markdown",
      "metadata": {
        "id": "sDdU282liQGr",
        "colab_type": "text"
      },
      "source": [
        "## Algebraic Operations\n",
        "\n",
        "The standard algebraic operations are also defined for ``numpy`` arrays, such as the dot product, matrix product and more:"
      ]
    },
    {
      "cell_type": "code",
      "metadata": {
        "id": "idFwMw94iQGu",
        "colab_type": "code",
        "colab": {},
        "outputId": "97810e11-feb5-414f-d3a1-e17c28632296"
      },
      "source": [
        "a = np.array([1, 2, 3])\n",
        "print(\"a = {}\".format(a))\n",
        "b = np.array([4, 5, 6])\n",
        "print(\"b = {}\\n\".format(b))\n",
        "\n",
        "c = np.dot(a, b)\n",
        "print(\"a.b = {}\".format(c))"
      ],
      "execution_count": 0,
      "outputs": [
        {
          "output_type": "stream",
          "text": [
            "a = [1 2 3]\n",
            "b = [4 5 6]\n",
            "\n",
            "a.b = 32\n"
          ],
          "name": "stdout"
        }
      ]
    },
    {
      "cell_type": "code",
      "metadata": {
        "id": "sv-K5xqOiQGz",
        "colab_type": "code",
        "colab": {},
        "outputId": "abbe104f-97ff-47c6-a081-4c0970af2811"
      },
      "source": [
        "A = np.array([[1, 2, 3], [4, 5, 6]])\n",
        "B = np.array([[6, 5, 4], [3, 2, 1]])\n",
        "print(\"A = \\n{}\\n\".format(A))\n",
        "print(\"B = \\n{}\\n\".format(B))\n",
        "\n",
        "C = np.matmul(A, B.transpose())\n",
        "print(\"A x B = \\n{}\".format(C))"
      ],
      "execution_count": 0,
      "outputs": [
        {
          "output_type": "stream",
          "text": [
            "A = \n",
            "[[1 2 3]\n",
            " [4 5 6]]\n",
            "\n",
            "B = \n",
            "[[6 5 4]\n",
            " [3 2 1]]\n",
            "\n",
            "A x B = \n",
            "[[28 10]\n",
            " [73 28]]\n"
          ],
          "name": "stdout"
        }
      ]
    },
    {
      "cell_type": "markdown",
      "metadata": {
        "id": "6pEVSElGiQG6",
        "colab_type": "text"
      },
      "source": [
        "## Group Comparisons and Indexing\n",
        "\n",
        "It is possible to perform group comparisons on ``numpy`` array, such as identifying all elements of an array greater than or equal to 5. The result of such comparison is a binary array of the same shape, which specifies whether the condition held for each correspoding element or not."
      ]
    },
    {
      "cell_type": "code",
      "metadata": {
        "id": "THpszLfwiQG7",
        "colab_type": "code",
        "colab": {},
        "outputId": "6319f3d9-19b3-463b-a040-7f4df6cb8e7f"
      },
      "source": [
        "A = np.array([[1, 5, 2], [7, 3, 4], [8, 0, 2]])\n",
        "print(A >= 5)"
      ],
      "execution_count": 0,
      "outputs": [
        {
          "output_type": "stream",
          "text": [
            "[[False  True False]\n",
            " [ True False False]\n",
            " [ True False False]]\n"
          ],
          "name": "stdout"
        }
      ]
    },
    {
      "cell_type": "markdown",
      "metadata": {
        "id": "LnzwK52ZiQHB",
        "colab_type": "text"
      },
      "source": [
        "Similarly, it is also possible to index elements according to some such condition. One can use function ``np.where`` to accomplish this: it will select the indices of any elements for which the value is ``True`` in the binary array. The resulting indices can be used as an index to the original array. If we want to assign 111 to every element greater than or equal to 5, for an instance, we can do that as follows:"
      ]
    },
    {
      "cell_type": "code",
      "metadata": {
        "id": "bW5hQ6opiQHE",
        "colab_type": "code",
        "colab": {},
        "outputId": "5b6541d3-3835-4f58-e411-a5977a536da5"
      },
      "source": [
        "A = np.array([[1, 5, 2], [7, 3, 4], [8, 0, 2]])\n",
        "index = np.where(A >= 5)\n",
        "A[index] = 111\n",
        "\n",
        "print(A)"
      ],
      "execution_count": 0,
      "outputs": [
        {
          "output_type": "stream",
          "text": [
            "[[  1 111   2]\n",
            " [111   3   4]\n",
            " [111   0   2]]\n"
          ],
          "name": "stdout"
        }
      ]
    },
    {
      "cell_type": "code",
      "metadata": {
        "id": "Zo2cJCx3iTBl",
        "colab_type": "code",
        "colab": {}
      },
      "source": [
        ""
      ],
      "execution_count": 0,
      "outputs": []
    }
  ]
}