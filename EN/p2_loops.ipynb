{
  "nbformat": 4,
  "nbformat_minor": 0,
  "metadata": {
    "kernelspec": {
      "display_name": "Python 3",
      "language": "python",
      "name": "python3"
    },
    "language_info": {
      "codemirror_mode": {
        "name": "ipython",
        "version": 3
      },
      "file_extension": ".py",
      "mimetype": "text/x-python",
      "name": "python",
      "nbconvert_exporter": "python",
      "pygments_lexer": "ipython3",
      "version": "3.6.7"
    },
    "colab": {
      "name": "p2_loops.ipynb",
      "version": "0.3.2",
      "provenance": [],
      "collapsed_sections": []
    }
  },
  "cells": [
    {
      "cell_type": "markdown",
      "metadata": {
        "collapsed": true,
        "id": "bR3ML8e9hlS-",
        "colab_type": "text"
      },
      "source": [
        "# Loops\n",
        "\n",
        "In Python one does not iterate using classic numeric ``for`` loops. One always iterates through an object – either through some container of other objects (i.e. carrying out certain operations for each object) or through a generator – an auxiliary object, which generates things on the fly.\n",
        "\n",
        "## An Auxiliary object of type ``range``\n",
        "\n",
        "In Python a numeric ``for`` loop is implemented using an axuliary object ``range``; ``range(a)`` corresponds to a sequence of numbers from ``0`` to ``a`` with step ``1`` (so that ``a`` is the first number, which does not belong into the sequence), i.e.:"
      ]
    },
    {
      "cell_type": "code",
      "metadata": {
        "scrolled": true,
        "id": "HRNACdFAhlTH",
        "colab_type": "code",
        "colab": {},
        "outputId": "f88a0a66-3b26-4c29-f15f-e5df1fcd931a"
      },
      "source": [
        "print(list(range(10)))  # in order to print the sequence of numbers\n",
        "                        # all at once, we first turn it into a list"
      ],
      "execution_count": 0,
      "outputs": [
        {
          "output_type": "stream",
          "text": [
            "[0, 1, 2, 3, 4, 5, 6, 7, 8, 9]\n"
          ],
          "name": "stdout"
        }
      ]
    },
    {
      "cell_type": "markdown",
      "metadata": {
        "id": "qgVASP3FhlTY",
        "colab_type": "text"
      },
      "source": [
        "If we would like to sequence to start from a different intial number, we can instead use the version with two arguments ``range(a, b)``, e.g.:"
      ]
    },
    {
      "cell_type": "code",
      "metadata": {
        "id": "ZdgxvcorhlTb",
        "colab_type": "code",
        "colab": {},
        "outputId": "b08756e7-630e-4358-c406-2ae1e9c47d51"
      },
      "source": [
        "print(list(range(2, 10)))     # a sequence from 2 to 10 with step 1"
      ],
      "execution_count": 0,
      "outputs": [
        {
          "output_type": "stream",
          "text": [
            "[2, 3, 4, 5, 6, 7, 8, 9]\n"
          ],
          "name": "stdout"
        }
      ]
    },
    {
      "cell_type": "markdown",
      "metadata": {
        "id": "zYmSCVyLhlTm",
        "colab_type": "text"
      },
      "source": [
        "If we want to change the step size, there is a version with three arguments ``range(a, b, s)``, where ``s`` is the step size:"
      ]
    },
    {
      "cell_type": "code",
      "metadata": {
        "id": "oh75EtkhhlTo",
        "colab_type": "code",
        "colab": {},
        "outputId": "0b15850c-914b-4a44-a123-5128564033f8"
      },
      "source": [
        "print(list(range(2, 10, 3)))  # a sequence from 2 to 10 with step 3"
      ],
      "execution_count": 0,
      "outputs": [
        {
          "output_type": "stream",
          "text": [
            "[2, 5, 8]\n"
          ],
          "name": "stdout"
        }
      ]
    },
    {
      "cell_type": "markdown",
      "metadata": {
        "id": "VPDJtcurhlTx",
        "colab_type": "text"
      },
      "source": [
        "## A ``for`` Loop\n",
        "\n",
        "If we now want to implement a ``for`` loop that will iterate from 0 to 10 with step size 1, we can do so using an auxialiary object ``range``. We know that to get a ``range`` object with such paramters, we simply need to call ``range(10)``. The ``for`` loop will then look as follows:"
      ]
    },
    {
      "cell_type": "code",
      "metadata": {
        "id": "jgBOyaJyhlTz",
        "colab_type": "code",
        "colab": {},
        "outputId": "b28623b1-a849-418b-924c-75f150ed4b03"
      },
      "source": [
        "for i in range(10):   # for each i in range(10), print i\n",
        "    print(i)"
      ],
      "execution_count": 0,
      "outputs": [
        {
          "output_type": "stream",
          "text": [
            "0\n",
            "1\n",
            "2\n",
            "3\n",
            "4\n",
            "5\n",
            "6\n",
            "7\n",
            "8\n",
            "9\n"
          ],
          "name": "stdout"
        }
      ]
    },
    {
      "cell_type": "markdown",
      "metadata": {
        "id": "9kVsCsqahlT8",
        "colab_type": "text"
      },
      "source": [
        "### Parallel Iteration\n",
        "\n",
        "In Python it is possible to iterate over two objects in parallel – using function ``zip``:"
      ]
    },
    {
      "cell_type": "code",
      "metadata": {
        "id": "lXnCbF59hlT_",
        "colab_type": "code",
        "colab": {},
        "outputId": "d81d224f-4bb5-4d6a-cab3-028e2de2f644"
      },
      "source": [
        "for i, j in zip(range(0, 5), range(5, 10)):\n",
        "    print(i, j)"
      ],
      "execution_count": 0,
      "outputs": [
        {
          "output_type": "stream",
          "text": [
            "0 5\n",
            "1 6\n",
            "2 7\n",
            "3 8\n",
            "4 9\n"
          ],
          "name": "stdout"
        }
      ]
    },
    {
      "cell_type": "markdown",
      "metadata": {
        "id": "i8KZUTwQhlUI",
        "colab_type": "text"
      },
      "source": [
        "<div style=\"background-color: #C2EB66; padding: 15px; padding-top: 5px; margin-top: 10px; margin-left:-15px\">\n",
        "<h2>Task</h2>\n",
        "\n",
        "Write Python code that will print all even numbers in the range from 0 to 10 using a ``for`` loop:\n",
        "</div>"
      ]
    },
    {
      "cell_type": "code",
      "metadata": {
        "id": "8-gupMoUhlUK",
        "colab_type": "code",
        "colab": {}
      },
      "source": [
        ""
      ],
      "execution_count": 0,
      "outputs": []
    },
    {
      "cell_type": "markdown",
      "metadata": {
        "id": "5Yf2wtdQhlUS",
        "colab_type": "text"
      },
      "source": [
        "## A ``while`` Loop\n",
        "\n",
        "Just as other languages, Python has a ``while`` loop in addition to the ``for`` loop. A ``while`` loop iterates as long as a certain condition is met:"
      ]
    },
    {
      "cell_type": "code",
      "metadata": {
        "id": "Yi5uLHfwhlUc",
        "colab_type": "code",
        "colab": {},
        "outputId": "cc853bd1-993a-484c-ce58-e482cd5dfcbb"
      },
      "source": [
        "c = 2\n",
        "while c < 100:\n",
        "    c **= 2\n",
        "    print(c)"
      ],
      "execution_count": 0,
      "outputs": [
        {
          "output_type": "stream",
          "text": [
            "4\n",
            "16\n",
            "256\n"
          ],
          "name": "stdout"
        }
      ]
    },
    {
      "cell_type": "code",
      "metadata": {
        "id": "8r0uvPzphnp7",
        "colab_type": "code",
        "colab": {}
      },
      "source": [
        ""
      ],
      "execution_count": 0,
      "outputs": []
    }
  ]
}