{
  "nbformat": 4,
  "nbformat_minor": 0,
  "metadata": {
    "kernelspec": {
      "display_name": "Python 3",
      "language": "python",
      "name": "python3"
    },
    "language_info": {
      "codemirror_mode": {
        "name": "ipython",
        "version": 3
      },
      "file_extension": ".py",
      "mimetype": "text/x-python",
      "name": "python",
      "nbconvert_exporter": "python",
      "pygments_lexer": "ipython3",
      "version": "3.6.7"
    },
    "colab": {
      "name": "p1_basic_syntax.ipynb",
      "version": "0.3.2",
      "provenance": [],
      "collapsed_sections": []
    }
  },
  "cells": [
    {
      "cell_type": "markdown",
      "metadata": {
        "id": "7ZPjwdg8g0M8",
        "colab_type": "text"
      },
      "source": [
        "<div class=\"clearfix\" style=\"padding: 10px; padding-left: 0px\">\n",
        "<img src=\"https://raw.githubusercontent.com/jupyter/nature-demo/master/images/jupyter-logo.png\" width=\"150px\" style=\"display: inline-block; margin-top: 5px;\">\n",
        "<img src=\"https://www.python.org/static/community_logos/python-logo-master-v3-TM.png\" width=\"150px\" style=\"display: inline-block; margin-top: 5px;\">\n",
        "</div>\n",
        "\n",
        "# A Crash Course for Python (3.x)\n",
        "\n",
        "This introduction to Python has the form of an iPython notebook. Notebooks allow us to combine formatted text and images with source code, which can be executed, tested, edited, used to generate interactive plots etc. directly from the notebook."
      ]
    },
    {
      "cell_type": "markdown",
      "metadata": {
        "id": "UbXvo_qvg0ND",
        "colab_type": "text"
      },
      "source": [
        "## How to Run the Code?\n",
        "\n",
        "The code can be run as follows:\n",
        "\n",
        "1. We select a cell containing the code by clicking on it.\n",
        "2. We press `SHIFT+ENTER` or click on the play button.\n",
        "\n",
        "The details of how to use the notebook interface depend on whether you are using Jupyter notebooks, Google Colab notebooks, Kaggle notebooks or a still different version. It will therefore be easiest to look them up in the documentation for the corresponding interface."
      ]
    },
    {
      "cell_type": "markdown",
      "metadata": {
        "id": "leV5dnGng0NI",
        "colab_type": "text"
      },
      "source": [
        "# Help\n",
        "\n",
        "Notebook documentation can be found in menu Help. It is also possible to make inquiry about particular functions, classes, objects etc. by entering a question mark and the identifier of the object, e.g.:"
      ]
    },
    {
      "cell_type": "code",
      "metadata": {
        "id": "RcytU7Wwg0NO",
        "colab_type": "code",
        "colab": {}
      },
      "source": [
        "import numpy as np\n",
        "?np.arange"
      ],
      "execution_count": 0,
      "outputs": []
    },
    {
      "cell_type": "markdown",
      "metadata": {
        "id": "M1g6Yj5Vg0Ne",
        "colab_type": "text"
      },
      "source": [
        "Similarly, when you highlight some portion of the code and press `SHIFT+TAB`, this will bring up built-in documentation in a floating window. Try this out now!"
      ]
    },
    {
      "cell_type": "markdown",
      "metadata": {
        "collapsed": true,
        "id": "nHN6WkFgg0Nj",
        "colab_type": "text"
      },
      "source": [
        "# The Basics of Python Syntax\n",
        "\n",
        "Variable types are not declared explicitly. We only write:\n",
        "```python\n",
        "a = 7\n",
        "x = 1.5\n",
        "s = \"a string\"\n",
        "```\n",
        "\n",
        "As we can see, commands are separated using the newline character. If we want to enter several commands into the same line, we can instead separate them using a semicolon, e.g.:\n",
        "```python\n",
        "a = 7; x = 1.5\n",
        "```\n",
        "\n",
        "In Python other whitespace character carry a lot of meaning as well. For an instance, code blocks are formed by identing the source code (in C++ the equivalent thing is done using \"{}\"):\n",
        "```python\n",
        "if x == 1 and a < 10:\n",
        "    y = 5\n",
        "elif a > 17 or x == 0:\n",
        "    y = 11\n",
        "    z = 12\n",
        "else:\n",
        "    y = 0\n",
        "```\n",
        "\n",
        "The indentation must be consistent (e.g. you always indent using 4 spaces). Incosistent indentation is considered a syntatic error, e.g.:"
      ]
    },
    {
      "cell_type": "code",
      "metadata": {
        "id": "ogu_3QDNg0Nn",
        "colab_type": "code",
        "colab": {},
        "outputId": "14f35dd6-e8e9-48c0-b8eb-e519d6e134f9"
      },
      "source": [
        "x = 1; a = 7\n",
        "\n",
        "if x == 1 and a < 10:\n",
        "    y = 5\n",
        "elif a > 17 or x == 0:\n",
        "    y = 11\n",
        "      z = 12\n",
        "else:\n",
        "    y = 0"
      ],
      "execution_count": 0,
      "outputs": [
        {
          "output_type": "error",
          "ename": "IndentationError",
          "evalue": "unexpected indent (<ipython-input-2-58e7c17fdb60>, line 7)",
          "traceback": [
            "\u001b[1;36m  File \u001b[1;32m\"<ipython-input-2-58e7c17fdb60>\"\u001b[1;36m, line \u001b[1;32m7\u001b[0m\n\u001b[1;33m    z = 12\u001b[0m\n\u001b[1;37m    ^\u001b[0m\n\u001b[1;31mIndentationError\u001b[0m\u001b[1;31m:\u001b[0m unexpected indent\n"
          ]
        }
      ]
    },
    {
      "cell_type": "markdown",
      "metadata": {
        "id": "cGsAxzBwg0N1",
        "colab_type": "text"
      },
      "source": [
        "Comments are marked with character ``#`` in Python, e.g.:"
      ]
    },
    {
      "cell_type": "code",
      "metadata": {
        "id": "OCXXyfOng0N6",
        "colab_type": "code",
        "colab": {}
      },
      "source": [
        "# This is a comment.\n",
        "x = 2   # assigns value 2 to x"
      ],
      "execution_count": 0,
      "outputs": []
    },
    {
      "cell_type": "markdown",
      "metadata": {
        "id": "mLih0uQog0OE",
        "colab_type": "text"
      },
      "source": [
        "## Function Declaration\n",
        "\n",
        "Functions are declared using the keyword ``def`` in Python. The body of the function is a code block, therefore it is indented. The return value is returned using the built-in keyword ``return`` similarly to C/C++."
      ]
    },
    {
      "cell_type": "code",
      "metadata": {
        "id": "ZrmKo2w4g0OL",
        "colab_type": "code",
        "colab": {}
      },
      "source": [
        "# A function, which sums numbers a and b:\n",
        "def plus(a, b):\n",
        "    return a + b"
      ],
      "execution_count": 0,
      "outputs": []
    },
    {
      "cell_type": "markdown",
      "metadata": {
        "id": "bZbejv-ug0OU",
        "colab_type": "text"
      },
      "source": [
        "# Outputing Text\n",
        "\n",
        "## Simple Output\n",
        "\n",
        "In Python, textual output can be produced using function ``print``, e.g.:"
      ]
    },
    {
      "cell_type": "code",
      "metadata": {
        "id": "Zp05zmS6g0OX",
        "colab_type": "code",
        "colab": {},
        "outputId": "a93efc0a-6122-4328-e1c1-036244b82b43"
      },
      "source": [
        "x = 15\n",
        "print(x)"
      ],
      "execution_count": 0,
      "outputs": [
        {
          "output_type": "stream",
          "text": [
            "15\n"
          ],
          "name": "stdout"
        }
      ]
    },
    {
      "cell_type": "markdown",
      "metadata": {
        "id": "kVZScoIug0Oh",
        "colab_type": "text"
      },
      "source": [
        "Printing also works with more complex objects, such as entire arrays:"
      ]
    },
    {
      "cell_type": "code",
      "metadata": {
        "id": "fMprhddxg0Ok",
        "colab_type": "code",
        "colab": {},
        "outputId": "1da296ba-e2ec-4f69-ccd7-e6f47c50535c"
      },
      "source": [
        "import numpy as np\n",
        "ar = np.array([1, 2, 3, 4])\n",
        "print(ar)"
      ],
      "execution_count": 0,
      "outputs": [
        {
          "output_type": "stream",
          "text": [
            "[1 2 3 4]\n"
          ],
          "name": "stdout"
        }
      ]
    },
    {
      "cell_type": "markdown",
      "metadata": {
        "id": "N06kSqqgg0Os",
        "colab_type": "text"
      },
      "source": [
        "## Formatted Output\n",
        "\n",
        "Formatted output is a more interesting case. It can be done using string's built-in function ``format``:"
      ]
    },
    {
      "cell_type": "code",
      "metadata": {
        "id": "NtNECUiVg0Ov",
        "colab_type": "code",
        "colab": {},
        "outputId": "cdc3223d-b926-4304-df89-f6b682f98ab3"
      },
      "source": [
        "x = 15\n",
        "y = 20\n",
        "print(\"The results are x = {}, y = {}.\".format(x, y))"
      ],
      "execution_count": 0,
      "outputs": [
        {
          "output_type": "stream",
          "text": [
            "The results are x = 15, y = 20.\n"
          ],
          "name": "stdout"
        }
      ]
    },
    {
      "cell_type": "markdown",
      "metadata": {
        "id": "iZ-7dpRbg0O3",
        "colab_type": "text"
      },
      "source": [
        "I.e. we embed one or several placeholders \"``{}``\" into the string, which will be substituted by their correspoding values when function ``format`` is called – in this case by values of variables ``x`` and ``y``. More detailed information about various kinds of formatting can be found in the Python [manual](https://docs.python.org/3/library/string.html#format-string-syntax)."
      ]
    },
    {
      "cell_type": "markdown",
      "metadata": {
        "id": "A051DZbxg0O7",
        "colab_type": "text"
      },
      "source": [
        "# The Fundamental Data Types\n",
        "\n",
        "## Numeric Types\n",
        "\n",
        "From among the fundamental numeric datatypes we might want to mention the standard ``int`` for integers and ``float`` for real-valued numbers. As we have mentioned already, variable types are not declared explictly in Python. It is sufficient to enter a literal of the corresponding type:"
      ]
    },
    {
      "cell_type": "code",
      "metadata": {
        "scrolled": false,
        "id": "3fcZwrnug0O-",
        "colab_type": "code",
        "colab": {},
        "outputId": "4bb8454d-d5b8-4f71-c09a-a1ce34d4a29c"
      },
      "source": [
        "x = 5\n",
        "print(type(x))    # Funkcia type(obj) returns the type of obj.\n",
        "\n",
        "y = 5.5\n",
        "print(type(y))"
      ],
      "execution_count": 0,
      "outputs": [
        {
          "output_type": "stream",
          "text": [
            "<class 'int'>\n",
            "<class 'float'>\n"
          ],
          "name": "stdout"
        }
      ]
    },
    {
      "cell_type": "markdown",
      "metadata": {
        "id": "6fnGrYO5g0PG",
        "colab_type": "text"
      },
      "source": [
        "Basic operations with numbers:\n",
        "\n",
        "```python\n",
        "x = 5\n",
        "\n",
        "print(x)                              # printing\n",
        "print(x + 1)                          # addition\n",
        "print(x - 1)                          # subtraction\n",
        "print(x * 2)                          # multiplication\n",
        "print(x / 2)                          # division (the result is a real number)\n",
        "print(x ** 2)                         # raising to a power\n",
        "print(x % 2)                          # modulo (the remained after integer division)\n",
        "\n",
        "x += 3                                # inkrementácia; the equivalent of x = x + 3\n",
        "print(x)\n",
        "\n",
        "x -= 3                                # decementation; the equivalent x = x - 3\n",
        "print(x)\n",
        "\n",
        "x *= 5                                # the equivalent of x = x * 5\n",
        "print(x)\n",
        "\n",
        "x /= 5                                # the equivalent of x = x / 5\n",
        "print(x)\n",
        "\n",
        "x **= 2                               # the equivalent of x = x ** 2\n",
        "print(x)\n",
        "```\n",
        "\n",
        "Python does not have operators ``x++``, ``x--``, which may be familiar to you from other languages. You should use the following instead:\n",
        "```python\n",
        "x += 1\n",
        "x -= 1\n",
        "```\n",
        "<div style=\"background-color: #C2EB66; padding: 15px; padding-top: 5px; margin-top: 10px; margin-left:-15px\">\n",
        "<h2>Task</h2>\n",
        "\n",
        "Try some of these operations out now:\n",
        "</div>"
      ]
    },
    {
      "cell_type": "code",
      "metadata": {
        "id": "tGfc5X8tg0PI",
        "colab_type": "code",
        "colab": {}
      },
      "source": [
        ""
      ],
      "execution_count": 0,
      "outputs": []
    },
    {
      "cell_type": "markdown",
      "metadata": {
        "id": "LatyB9jZg0PN",
        "colab_type": "text"
      },
      "source": [
        "## Bool\n",
        "\n",
        "Boolean variables are denoted ``True`` (true, logical 1) and ``False`` (false, logical 0)."
      ]
    },
    {
      "cell_type": "code",
      "metadata": {
        "id": "bzsk0219g0PQ",
        "colab_type": "code",
        "colab": {},
        "outputId": "58333bf9-ee2b-4c98-f0b6-0ae0c343b809"
      },
      "source": [
        "t = True\n",
        "f = False\n",
        "print(type(t))"
      ],
      "execution_count": 0,
      "outputs": [
        {
          "output_type": "stream",
          "text": [
            "<class 'bool'>\n"
          ],
          "name": "stdout"
        }
      ]
    },
    {
      "cell_type": "markdown",
      "metadata": {
        "id": "GgV5nY7lg0PY",
        "colab_type": "text"
      },
      "source": [
        "Boolean operations are denoted by their English names written in small letters:"
      ]
    },
    {
      "cell_type": "code",
      "metadata": {
        "id": "s6SY7Hm1g0Pa",
        "colab_type": "code",
        "colab": {},
        "outputId": "b6bb5040-2864-4b23-c3c6-136650496ffe"
      },
      "source": [
        "t = True\n",
        "f = False\n",
        "\n",
        "print(t and f)                      # and\n",
        "print(t or f)                       # or\n",
        "print(not t)                        # negation\n",
        "print(t != f)                       # xor"
      ],
      "execution_count": 0,
      "outputs": [
        {
          "output_type": "stream",
          "text": [
            "False\n",
            "True\n",
            "False\n",
            "True\n"
          ],
          "name": "stdout"
        }
      ]
    },
    {
      "cell_type": "markdown",
      "metadata": {
        "id": "J2JlEkpYg0Ph",
        "colab_type": "text"
      },
      "source": [
        "## Strings\n",
        "\n",
        "Strings are enclosed either in single or in double quotation marks in Python. Both kinds of notation are equivalent:"
      ]
    },
    {
      "cell_type": "code",
      "metadata": {
        "id": "qC8wbMBgg0Pj",
        "colab_type": "code",
        "colab": {}
      },
      "source": [
        "str1 = 'string number 1'\n",
        "str2 = \"string number 2\""
      ],
      "execution_count": 0,
      "outputs": []
    },
    {
      "cell_type": "markdown",
      "metadata": {
        "id": "QGtSYylXg0Pr",
        "colab_type": "text"
      },
      "source": [
        "The length of a string can be determined using function ``len``:"
      ]
    },
    {
      "cell_type": "code",
      "metadata": {
        "id": "arUe1Setg0Pt",
        "colab_type": "code",
        "colab": {},
        "outputId": "af0e3234-0e92-451b-de94-5df4ea751d8d"
      },
      "source": [
        "str1 = 'string number 1'\n",
        "print(len(str1))"
      ],
      "execution_count": 0,
      "outputs": [
        {
          "output_type": "stream",
          "text": [
            "15\n"
          ],
          "name": "stdout"
        }
      ]
    },
    {
      "cell_type": "markdown",
      "metadata": {
        "id": "sM6-YTW4g0P0",
        "colab_type": "text"
      },
      "source": [
        "Strings can be concatenated using operator ``+``:"
      ]
    },
    {
      "cell_type": "code",
      "metadata": {
        "id": "9BAOAp6yg0P2",
        "colab_type": "code",
        "colab": {},
        "outputId": "a3810d89-9268-465d-8eed-33e2274f0adb"
      },
      "source": [
        "str1 = 'string number 1'\n",
        "str2 = 'string number 2'\n",
        "str12 = str1 + ', ' + str2\n",
        "print(str12)"
      ],
      "execution_count": 0,
      "outputs": [
        {
          "output_type": "stream",
          "text": [
            "string number 1, string number 2\n"
          ],
          "name": "stdout"
        }
      ]
    },
    {
      "cell_type": "markdown",
      "metadata": {
        "id": "Q52zTaa0g0QF",
        "colab_type": "text"
      },
      "source": [
        "### Formatting\n",
        "\n",
        "The above-mentioned way of formatting text using function ``.format(...)`` works at the level of strings – it can be used anywhere, not just when printing stuff:"
      ]
    },
    {
      "cell_type": "code",
      "metadata": {
        "id": "eTFdRNLzg0QH",
        "colab_type": "code",
        "colab": {},
        "outputId": "3433e1e8-36c3-4e02-ca3b-8d1cb20c685e"
      },
      "source": [
        "z = \"potatoes\"\n",
        "n = 4\n",
        "str1 = \"I had {} {}.\".format(n, z)\n",
        "print(str1)"
      ],
      "execution_count": 0,
      "outputs": [
        {
          "output_type": "stream",
          "text": [
            "I had 4 potatoes.\n"
          ],
          "name": "stdout"
        }
      ]
    },
    {
      "cell_type": "markdown",
      "metadata": {
        "id": "9SVOGgAEg0QP",
        "colab_type": "text"
      },
      "source": [
        "### Other Operations with Strings\n",
        "\n",
        "Strings also have many other built-in functions, e.g.:"
      ]
    },
    {
      "cell_type": "code",
      "metadata": {
        "id": "NXulyS2Ag0QR",
        "colab_type": "code",
        "colab": {},
        "outputId": "772454d2-8729-4fae-cb6e-81836fcdbead"
      },
      "source": [
        "str1 = '  string number 1   '\n",
        "print(str1.capitalize())     # Capitalizes the first letter.\n",
        "print(str1.upper())          # Capitalizes all letters.\n",
        "print(str1.strip())          # Removes whitespace from the beginning\n",
        "                             # and the end of the string."
      ],
      "execution_count": 0,
      "outputs": [
        {
          "output_type": "stream",
          "text": [
            "  string number 1   \n",
            "  STRING NUMBER 1   \n",
            "string number 1\n"
          ],
          "name": "stdout"
        }
      ]
    },
    {
      "cell_type": "markdown",
      "metadata": {
        "id": "7YUEr9glg0QY",
        "colab_type": "text"
      },
      "source": [
        "## Comparing Values\n",
        "\n",
        "The values of two variables are compared in a way similar to many other languages (e.g. C++):"
      ]
    },
    {
      "cell_type": "code",
      "metadata": {
        "scrolled": true,
        "id": "YEDPMBiDg0Qc",
        "colab_type": "code",
        "colab": {},
        "outputId": "da5d0073-7d56-4193-e732-b5f69de81409"
      },
      "source": [
        "x = 1\n",
        "\n",
        "print(x == 1)                # equality\n",
        "print(x != 1)                # inequality\n",
        "\n",
        "str1 = 'string number 1'\n",
        "str2 = 'string number 2'\n",
        "\n",
        "print(str1 == str2)          # equality\n",
        "print(str1 != str2)          # inequality"
      ],
      "execution_count": 0,
      "outputs": [
        {
          "output_type": "stream",
          "text": [
            "True\n",
            "False\n",
            "False\n",
            "True\n"
          ],
          "name": "stdout"
        }
      ]
    },
    {
      "cell_type": "code",
      "metadata": {
        "id": "HOjnOQITg0Qj",
        "colab_type": "code",
        "colab": {}
      },
      "source": [
        ""
      ],
      "execution_count": 0,
      "outputs": []
    }
  ]
}