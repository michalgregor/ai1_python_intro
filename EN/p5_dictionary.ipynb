{
  "nbformat": 4,
  "nbformat_minor": 0,
  "metadata": {
    "kernelspec": {
      "display_name": "Python 3",
      "language": "python",
      "name": "python3"
    },
    "language_info": {
      "codemirror_mode": {
        "name": "ipython",
        "version": 3
      },
      "file_extension": ".py",
      "mimetype": "text/x-python",
      "name": "python",
      "nbconvert_exporter": "python",
      "pygments_lexer": "ipython3",
      "version": "3.6.7"
    },
    "colab": {
      "name": "p5_dictionary.ipynb",
      "version": "0.3.2",
      "provenance": []
    }
  },
  "cells": [
    {
      "cell_type": "markdown",
      "metadata": {
        "id": "QVELluJdiHF_",
        "colab_type": "text"
      },
      "source": [
        "# Dictionary – ``dict``\n",
        "\n",
        "Another useful Python container is called the dictonary, or ``dict``. A dictionary is not indexed using numbers, but rather using arbitrary objects (as long as they can be hashed), most often using strings.\n",
        "\n",
        "Let us suppose that there are three movies in the cinema: Superman IV., Hobbit and Rogue One and we want to store the price of the tickets for each, so that we can query for it using the title of the movie:"
      ]
    },
    {
      "cell_type": "code",
      "metadata": {
        "id": "SOu0xTFziHGI",
        "colab_type": "code",
        "colab": {},
        "outputId": "ab5e691c-c092-4387-db42-6a0d586def96"
      },
      "source": [
        "ticket_price = {'superman_iv': 5, 'hobbit': 7, 'rogue_one': 11}\n",
        "print(ticket_price['hobbit'])"
      ],
      "execution_count": 0,
      "outputs": [
        {
          "output_type": "stream",
          "text": [
            "7\n"
          ],
          "name": "stdout"
        }
      ]
    },
    {
      "cell_type": "markdown",
      "metadata": {
        "id": "z6o_OkNRiHGY",
        "colab_type": "text"
      },
      "source": [
        "## An Empty Dictionary\n",
        "\n",
        "We can also create an empty dictionary:"
      ]
    },
    {
      "cell_type": "code",
      "metadata": {
        "id": "ciJTFl0WiHGc",
        "colab_type": "code",
        "colab": {},
        "outputId": "e513170c-86d9-420d-f579-272cd07ea23c"
      },
      "source": [
        "ticket_price = {}\n",
        "print(ticket_price)\n",
        "\n",
        "ticket_price2 = dict()\n",
        "print(ticket_price2)"
      ],
      "execution_count": 0,
      "outputs": [
        {
          "output_type": "stream",
          "text": [
            "{}\n",
            "{}\n"
          ],
          "name": "stdout"
        }
      ]
    },
    {
      "cell_type": "markdown",
      "metadata": {
        "id": "A30ruDHGiHGl",
        "colab_type": "text"
      },
      "source": [
        "## Adding New Elements\n",
        "\n",
        "To add new elements to a dictionary, we only need to index them and assign a value:"
      ]
    },
    {
      "cell_type": "code",
      "metadata": {
        "id": "U8Qe-TB-iHGo",
        "colab_type": "code",
        "colab": {},
        "outputId": "7c815860-cc4a-4a84-aa17-2d9fca355738"
      },
      "source": [
        "ticket_price = {}\n",
        "ticket_price[\"shadowlands\"] = 7\n",
        "ticket_price[\"alice_in_wonderland\"] = 4\n",
        "\n",
        "print(ticket_price)"
      ],
      "execution_count": 0,
      "outputs": [
        {
          "output_type": "stream",
          "text": [
            "{'shadowlands': 7, 'alice_in_wonderland': 4}\n"
          ],
          "name": "stdout"
        }
      ]
    },
    {
      "cell_type": "markdown",
      "metadata": {
        "id": "Fl2OhRMriHGx",
        "colab_type": "text"
      },
      "source": [
        "## Does the Dictionary Contain Key x?\n",
        "\n",
        "If we want to check whether a dictionary contains a certain key, we can do this using keyword ``in``:"
      ]
    },
    {
      "cell_type": "code",
      "metadata": {
        "id": "lWD0yOfUiHGz",
        "colab_type": "code",
        "colab": {},
        "outputId": "4783eb9d-50eb-4232-87ed-874248fa92f1"
      },
      "source": [
        "ticket_price = {'superman_iv': 5, 'hobbit': 7, 'rogue_one': 11}\n",
        "\n",
        "print('superman_iv' in ticket_price)"
      ],
      "execution_count": 0,
      "outputs": [
        {
          "output_type": "stream",
          "text": [
            "True\n"
          ],
          "name": "stdout"
        }
      ]
    },
    {
      "cell_type": "markdown",
      "metadata": {
        "id": "y4SsdoF5iHHE",
        "colab_type": "text"
      },
      "source": [
        "## Deleting Elements from a Dictionary\n",
        "\n",
        "Deleting elements from a dictionary is analogical to deleting from a list – we will again use keyword ``del``:"
      ]
    },
    {
      "cell_type": "code",
      "metadata": {
        "id": "DAliKZ40iHHI",
        "colab_type": "code",
        "colab": {},
        "outputId": "72142e5b-018b-4944-fcdd-2d534d97a31a"
      },
      "source": [
        "ticket_price = {'superman_iv': 5, 'hobbit': 7, 'rogue_one': 11}\n",
        "del ticket_price['superman_iv']\n",
        "\n",
        "print(ticket_price)"
      ],
      "execution_count": 0,
      "outputs": [
        {
          "output_type": "stream",
          "text": [
            "{'hobbit': 7, 'rogue_one': 11}\n"
          ],
          "name": "stdout"
        }
      ]
    },
    {
      "cell_type": "markdown",
      "metadata": {
        "id": "M3jeCKRHiHHQ",
        "colab_type": "text"
      },
      "source": [
        "## Iterating over Dictionaries\n",
        "\n",
        "Iteration over dictionaries can be done in one of three ways: over (key, value) pairs, over keys separately, or over values separately:"
      ]
    },
    {
      "cell_type": "code",
      "metadata": {
        "id": "1nAbu0qsiHHS",
        "colab_type": "code",
        "colab": {},
        "outputId": "e16a8232-9911-4c9a-e204-0758d30c9491"
      },
      "source": [
        "ticket_price = {'superman_iv': 5, 'hobbit': 7, 'rogue_one': 11}\n",
        "\n",
        "print(\"over pairs:\")\n",
        "for k, v in ticket_price.items():\n",
        "    print(k, v)\n",
        "    \n",
        "print(\"\\nover keys:\")\n",
        "for k in ticket_price.keys():\n",
        "    print(k)\n",
        "    \n",
        "print(\"\\nover values:\")\n",
        "for v in ticket_price.values():\n",
        "    print(v)"
      ],
      "execution_count": 0,
      "outputs": [
        {
          "output_type": "stream",
          "text": [
            "over pairs:\n",
            "superman_iv 5\n",
            "hobbit 7\n",
            "rogue_one 11\n",
            "\n",
            "over keys:\n",
            "superman_iv\n",
            "hobbit\n",
            "rogue_one\n",
            "\n",
            "over values:\n",
            "5\n",
            "7\n",
            "11\n"
          ],
          "name": "stdout"
        }
      ]
    },
    {
      "cell_type": "markdown",
      "metadata": {
        "id": "T8EsRWlwiHHb",
        "colab_type": "text"
      },
      "source": [
        "## Dictionary Comprehensions\n",
        "\n",
        "Analogically to lists, dictionaries can also be created using comprehensions, e.g.:"
      ]
    },
    {
      "cell_type": "code",
      "metadata": {
        "id": "fOy1n67oiHHd",
        "colab_type": "code",
        "colab": {},
        "outputId": "c24da028-bdb4-44ef-982a-470bb98dc683"
      },
      "source": [
        "movies = ['superman_iv', 'hobbit', 'rogue_one']\n",
        "prices = [5, 7, 11]\n",
        "\n",
        "ticket_price = {k: v for k, v in zip(movies, prices)}\n",
        "\n",
        "print(ticket_price)"
      ],
      "execution_count": 0,
      "outputs": [
        {
          "output_type": "stream",
          "text": [
            "{'superman_iv': 5, 'hobbit': 7, 'rogue_one': 11}\n"
          ],
          "name": "stdout"
        }
      ]
    },
    {
      "cell_type": "code",
      "metadata": {
        "id": "Yr5qieRWiKQH",
        "colab_type": "code",
        "colab": {}
      },
      "source": [
        ""
      ],
      "execution_count": 0,
      "outputs": []
    }
  ]
}