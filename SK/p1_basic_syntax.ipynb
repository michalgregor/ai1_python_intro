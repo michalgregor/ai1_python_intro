{
  "nbformat": 4,
  "nbformat_minor": 0,
  "metadata": {
    "kernelspec": {
      "display_name": "Python 3",
      "language": "python",
      "name": "python3"
    },
    "language_info": {
      "codemirror_mode": {
        "name": "ipython",
        "version": 3
      },
      "file_extension": ".py",
      "mimetype": "text/x-python",
      "name": "python",
      "nbconvert_exporter": "python",
      "pygments_lexer": "ipython3",
      "version": "3.6.7"
    },
    "colab": {
      "name": "p1_basic_syntax.ipynb",
      "version": "0.3.2",
      "provenance": [],
      "collapsed_sections": []
    }
  },
  "cells": [
    {
      "cell_type": "markdown",
      "metadata": {
        "id": "aMGbnE2qLONP",
        "colab_type": "text"
      },
      "source": [
        "<div class=\"clearfix\" style=\"padding: 10px; padding-left: 0px\">\n",
        "<img src=\"https://raw.githubusercontent.com/jupyter/nature-demo/master/images/jupyter-logo.png\" width=\"150px\" style=\"display: inline-block; margin-top: 5px;\">\n",
        "<img src=\"https://www.python.org/static/community_logos/python-logo-master-v3-TM.png\" width=\"150px\" style=\"display: inline-block; margin-top: 5px;\">\n",
        "</div>\n",
        "\n",
        "# Mikroúvod do jazyka Python (3.x)\n",
        "\n",
        "Tento úvod má formu ipython notebook-u. Notebook-y umožňujú kombinovať formátovaný text a obrázky so zdrojovým kódom, ktorý možno interaktívne spustiť, testovať, editovať, generovať v rámci neho interaktívne grafy a pod."
      ]
    },
    {
      "cell_type": "markdown",
      "metadata": {
        "id": "ICpBe1AMLONY",
        "colab_type": "text"
      },
      "source": [
        "## Ako spustiť priložené zdrojové kódy?\n",
        "\n",
        "Spustiť priložené zdrojové kódy je možné nasledovne:\n",
        "\n",
        "1. Kliknutím označíte bunku, v ktorej sa kód nachádza.\n",
        "2. Stlačíte `SHIFT+ENTER` alebo kliknete na tlačidlo play (<button class='fa fa-play icon-play btn btn-xs btn-default'></button>) hore v paneli.\n",
        "\n",
        "Nové bunky je možné pridať pomocou tlačidla plus (<button class='fa fa-plus icon-plus btn btn-xs btn-default'></button>) alebo stlačením `SHIFT+ENTER` v poslednej bunke. Ak chcete existujúce bunky zmazať, je to možné urobiť buď cez menu alebo tak, že ich kliknutím vyberiete a použijete klávesovú skratku `D+D`.\n",
        "\n",
        "Podrobnejší návod na použitie notebook rozhrania je [tu](http://nbviewer.jupyter.org/github/ipython/ipython/blob/3.x/examples/Notebook/Index.ipynb)."
      ]
    },
    {
      "cell_type": "markdown",
      "metadata": {
        "id": "H7uZJwlgLONe",
        "colab_type": "text"
      },
      "source": [
        "# Help\n",
        "\n",
        "Prístup ku dokumentácii je v menu Help. Dá sa tiež dotazovať na konkrétne funkcie, triedy, objekty atď. tak, že napíšete otáznik a identifikátor príslušného objektu, napr.:"
      ]
    },
    {
      "cell_type": "code",
      "metadata": {
        "id": "ggO03KIoLONm",
        "colab_type": "code",
        "colab": {}
      },
      "source": [
        "import numpy as np\n",
        "?np.arange"
      ],
      "execution_count": 0,
      "outputs": []
    },
    {
      "cell_type": "markdown",
      "metadata": {
        "id": "48SMNLYGLON-",
        "colab_type": "text"
      },
      "source": [
        "Podobne keď sa časť kódu označí, možno stlačením `SHIFT+TAB` zobraziť dokumentáciu v plávajúcom okne. Vyskúšajte si to!"
      ]
    },
    {
      "cell_type": "markdown",
      "metadata": {
        "collapsed": true,
        "id": "_-K7QarpLOOE",
        "colab_type": "text"
      },
      "source": [
        "# Základy Python-ovej syntaxe\n",
        "\n",
        "Typy premenných sa explicitne nedeklarujú, takže píšeme napr.:\n",
        "```python\n",
        "a = 7\n",
        "x = 1.5\n",
        "s = \"textový reťazec\"\n",
        "```\n",
        "\n",
        "Ako sme videli, príkazy sa oddeľujú znakom nového riadku. Ak chceme viacero príkazov v tom istom riadku, môžeme ich oddeliť bodkočiarkou, napr.:\n",
        "```python\n",
        "a = 7; x = 1.5\n",
        "```\n",
        "\n",
        "V Python-e majú význam aj iné biele znaky. Napr. odsadením sa vyjadrujú bloky kódu (v C++ sú na to \"{}\"):\n",
        "```python\n",
        "if x == 1 and a < 10:\n",
        "    y = 5\n",
        "elif a > 17 or x == 0:\n",
        "    y = 11\n",
        "    z = 12\n",
        "else:\n",
        "    y = 0\n",
        "```\n",
        "\n",
        "Odsadenie musí byť všade rovnaké (napr. vždy odsadzovať štyrmi znakmi). Nekonzistentné odsadenie sa považuje za syntaktickú chybu, napr.:"
      ]
    },
    {
      "cell_type": "code",
      "metadata": {
        "id": "_NgCnFswLOOK",
        "colab_type": "code",
        "colab": {
          "base_uri": "https://localhost:8080/",
          "height": 133
        },
        "outputId": "cd183441-fa88-4a66-eabe-7d92b85ba65f"
      },
      "source": [
        "x = 1; a = 7\n",
        "\n",
        "if x == 1 and a < 10:\n",
        "    y = 5\n",
        "elif a > 17 or x == 0:\n",
        "    y = 11\n",
        "      z = 12\n",
        "else:\n",
        "    y = 0"
      ],
      "execution_count": 2,
      "outputs": [
        {
          "output_type": "error",
          "ename": "IndentationError",
          "evalue": "ignored",
          "traceback": [
            "\u001b[0;36m  File \u001b[0;32m\"<ipython-input-2-3140014929df>\"\u001b[0;36m, line \u001b[0;32m7\u001b[0m\n\u001b[0;31m    z = 12\u001b[0m\n\u001b[0m    ^\u001b[0m\n\u001b[0;31mIndentationError\u001b[0m\u001b[0;31m:\u001b[0m unexpected indent\n"
          ]
        }
      ]
    },
    {
      "cell_type": "markdown",
      "metadata": {
        "id": "zMCNXTWdLOOW",
        "colab_type": "text"
      },
      "source": [
        "Komentáre sa v Python-e označujú znakom ``#``, napr.:"
      ]
    },
    {
      "cell_type": "code",
      "metadata": {
        "id": "xcTyhe9kLOOa",
        "colab_type": "code",
        "colab": {}
      },
      "source": [
        "# Toto je komentár.\n",
        "x = 2   # priradí do x hodnotu 2"
      ],
      "execution_count": 0,
      "outputs": []
    },
    {
      "cell_type": "markdown",
      "metadata": {
        "id": "CP_qhRuRLOOl",
        "colab_type": "text"
      },
      "source": [
        "## Deklarácia funkcií\n",
        "\n",
        "Funkcie sa v Python-e deklarujú pomocou kľúčového slova ``def``. Telo funkcie je blok kódu, takže je odsadené. Hodnota sa navracia pomocou kľúčového slova ``return`` podobne ako v C/C++."
      ]
    },
    {
      "cell_type": "code",
      "metadata": {
        "id": "EsTvJji0LOOr",
        "colab_type": "code",
        "colab": {}
      },
      "source": [
        "# Funkcia, ktorá sčíta čísla a, b:\n",
        "def plus(a, b):\n",
        "    return a + b"
      ],
      "execution_count": 0,
      "outputs": []
    },
    {
      "cell_type": "markdown",
      "metadata": {
        "id": "JDEVDFYvLOO0",
        "colab_type": "text"
      },
      "source": [
        "# Výpis textu\n",
        "\n",
        "## Jednoduchý výpis\n",
        "Výpis sa v Python-e realizuje pomocou funkcie ``print``, napr.:"
      ]
    },
    {
      "cell_type": "code",
      "metadata": {
        "id": "ejGzCcehLOO4",
        "colab_type": "code",
        "colab": {}
      },
      "source": [
        "x = 15\n",
        "print(x)"
      ],
      "execution_count": 0,
      "outputs": []
    },
    {
      "cell_type": "markdown",
      "metadata": {
        "id": "O2MEItnRLOPE",
        "colab_type": "text"
      },
      "source": [
        "Rovnako funguje výpis so zložitejšími objektami, napr. s celými poľami:"
      ]
    },
    {
      "cell_type": "code",
      "metadata": {
        "id": "BFxGzLDdLOPG",
        "colab_type": "code",
        "colab": {}
      },
      "source": [
        "import numpy as np\n",
        "ar = np.array([1, 2, 3, 4])\n",
        "print(ar)"
      ],
      "execution_count": 0,
      "outputs": []
    },
    {
      "cell_type": "markdown",
      "metadata": {
        "id": "NoTBBgNYLOPU",
        "colab_type": "text"
      },
      "source": [
        "## Formátovaný výpis\n",
        "\n",
        "Zaujímavejší je výpis formátovaného textu. Dá sa realizovať pomocou funkcie ``format``, ktorú majú vstavané textové reťazce:"
      ]
    },
    {
      "cell_type": "code",
      "metadata": {
        "id": "NJDF3I0FLOPZ",
        "colab_type": "code",
        "colab": {}
      },
      "source": [
        "x = 15\n",
        "y = 20\n",
        "print(\"Výsledky sú x = {}, y = {}.\".format(x, y))"
      ],
      "execution_count": 0,
      "outputs": []
    },
    {
      "cell_type": "markdown",
      "metadata": {
        "id": "qoRJMnjCLOPm",
        "colab_type": "text"
      },
      "source": [
        "T.j. niekde do textu vložíme jeden alebo viacero zástupných symbolov \"``{}``\", ktoré sa po použití funkcie ``format`` nahradia príslušnými argumentami uvedenými v zátvorkách – v tomto prípade hodnotami premenných ``x`` a ``y``. Podrobnejšie informácie o možnostiach formátovania sa dajú nájsť v [manuále](https://docs.python.org/3/library/string.html#format-string-syntax)."
      ]
    },
    {
      "cell_type": "markdown",
      "metadata": {
        "id": "O-CSeABKLOPu",
        "colab_type": "text"
      },
      "source": [
        "# Základné dátové typy\n",
        "\n",
        "## Numerické typy\n",
        "\n",
        "Zo základných numerických typov je dobré spomenúť hlavne klasické ``int``-y, t.j. celé čísla a ``float``-y, t.j. reálne čísla. Ako sme už povedali, typy premenných sa v Python-e explicitne nedeklarujú, stačí napísať príslušné literály:"
      ]
    },
    {
      "cell_type": "code",
      "metadata": {
        "scrolled": false,
        "id": "HzLYjXz1LOPz",
        "colab_type": "code",
        "colab": {
          "base_uri": "https://localhost:8080/",
          "height": 52
        },
        "outputId": "d4ab981c-b467-4f72-984a-7b953ce71d0d"
      },
      "source": [
        "x = 5\n",
        "print(type(x))    # Funkcia type(obj) navracia typ objektu obj.\n",
        "\n",
        "y = 5.5\n",
        "print(type(y))"
      ],
      "execution_count": 3,
      "outputs": [
        {
          "output_type": "stream",
          "text": [
            "<class 'int'>\n",
            "<class 'float'>\n"
          ],
          "name": "stdout"
        }
      ]
    },
    {
      "cell_type": "markdown",
      "metadata": {
        "id": "eJsHS7JVLOQA",
        "colab_type": "text"
      },
      "source": [
        "Základné operácie s číslami:\n",
        "\n",
        "```python\n",
        "x = 5\n",
        "\n",
        "print(x)                              # výpis\n",
        "print(x + 1)                          # sčítanie\n",
        "print(x - 1)                          # odčítanie\n",
        "print(x * 2)                          # násobenie\n",
        "print(x / 2)                          # delenie (výsledkom je reálne číslo)\n",
        "print(x ** 2)                         # umocnenie\n",
        "print(x % 2)                          # modulo (zvyšok po celočíselnom delení)\n",
        "\n",
        "x += 3                                # inkrementácia; ekvivalent x = x + 3\n",
        "print(x)\n",
        "\n",
        "x -= 3                                # dekrementácia; ekvivalent x = x - 3\n",
        "print(x)\n",
        "\n",
        "x *= 5                                # ekvivalent x = x * 5\n",
        "print(x)\n",
        "\n",
        "x /= 5                                # ekvivalent x = x / 5\n",
        "print(x)\n",
        "\n",
        "x **= 2                               # ekvivalent x = x ** 2\n",
        "print(x)\n",
        "```\n",
        "\n",
        "Python nemá operátory ``x++``, ``x--``, ktoré poznáme z iných jazykov. Namiesto toho sa používa zápis:\n",
        "```python\n",
        "x += 1\n",
        "x -= 1\n",
        "```\n",
        "<div style=\"background-color: #C2EB66; padding: 15px; padding-top: 5px; margin-top: 10px; margin-left:-15px\">\n",
        "<h2>Úloha</h2>\n",
        "\n",
        "Môžete si niektoré z týchto operácií vyskúšať tu:\n",
        "</div>"
      ]
    },
    {
      "cell_type": "code",
      "metadata": {
        "id": "my24CzcDLOQE",
        "colab_type": "code",
        "colab": {}
      },
      "source": [
        ""
      ],
      "execution_count": 0,
      "outputs": []
    },
    {
      "cell_type": "markdown",
      "metadata": {
        "id": "PQAm1KwULOQL",
        "colab_type": "text"
      },
      "source": [
        "## Bool\n",
        "\n",
        "Boolovské hodnoty sú v Pythone ``True`` (pravda, logická 1) a ``False`` (nepravda, logická 0)."
      ]
    },
    {
      "cell_type": "code",
      "metadata": {
        "id": "komqUSO-LOQO",
        "colab_type": "code",
        "colab": {
          "base_uri": "https://localhost:8080/",
          "height": 34
        },
        "outputId": "ee3dfdb7-34ff-4c8b-91bf-c5d907b8391e"
      },
      "source": [
        "t = True\n",
        "f = False\n",
        "print(type(t))"
      ],
      "execution_count": 4,
      "outputs": [
        {
          "output_type": "stream",
          "text": [
            "<class 'bool'>\n"
          ],
          "name": "stdout"
        }
      ]
    },
    {
      "cell_type": "markdown",
      "metadata": {
        "id": "ECRMaf3MLOQV",
        "colab_type": "text"
      },
      "source": [
        "Boolovské operácie sa označujú svojimi anglickými názvami a píšu sa malými písmenami:"
      ]
    },
    {
      "cell_type": "code",
      "metadata": {
        "id": "OahP6AsYLOQX",
        "colab_type": "code",
        "colab": {
          "base_uri": "https://localhost:8080/",
          "height": 86
        },
        "outputId": "8aa5c390-0d86-45a0-a899-ca676070ce53"
      },
      "source": [
        "t = True\n",
        "f = False\n",
        "\n",
        "print(t and f)                      # and: logický súčin\n",
        "print(t or f)                       # or: logický súčet\n",
        "print(not t)                        # not: negácia\n",
        "print(t != f)                       # xor"
      ],
      "execution_count": 5,
      "outputs": [
        {
          "output_type": "stream",
          "text": [
            "False\n",
            "True\n",
            "False\n",
            "True\n"
          ],
          "name": "stdout"
        }
      ]
    },
    {
      "cell_type": "markdown",
      "metadata": {
        "id": "hFEAImfeLOQf",
        "colab_type": "text"
      },
      "source": [
        "## Textové reťazce\n",
        "\n",
        "Textové reťazce sa v Python-e uzatvárajú buď do jednoduchých alebo do dvojitých úvodzoviek – obidva zápisy sú ekvivalentné, napr.:"
      ]
    },
    {
      "cell_type": "code",
      "metadata": {
        "id": "CdGhuTWTLOQi",
        "colab_type": "code",
        "colab": {}
      },
      "source": [
        "str1 = 'textový reťazec 1'\n",
        "str2 = \"textový reťazec 2\""
      ],
      "execution_count": 0,
      "outputs": []
    },
    {
      "cell_type": "markdown",
      "metadata": {
        "id": "wl1OLaTCLOQn",
        "colab_type": "text"
      },
      "source": [
        "Dĺžka textového reťazca sa dá zistiť pomocou funkcie ``len``:"
      ]
    },
    {
      "cell_type": "code",
      "metadata": {
        "id": "tcsklr-eLOQp",
        "colab_type": "code",
        "colab": {
          "base_uri": "https://localhost:8080/",
          "height": 34
        },
        "outputId": "1aa82230-c6f7-45d2-92fa-17b0c6175797"
      },
      "source": [
        "str1 = 'textový reťazec 1'\n",
        "print(len(str1))"
      ],
      "execution_count": 7,
      "outputs": [
        {
          "output_type": "stream",
          "text": [
            "17\n"
          ],
          "name": "stdout"
        }
      ]
    },
    {
      "cell_type": "markdown",
      "metadata": {
        "id": "pUDMoUYVLOQw",
        "colab_type": "text"
      },
      "source": [
        "Textové reťazce sa dajú zlučovať dokopy pomocou operátora ``+``:"
      ]
    },
    {
      "cell_type": "code",
      "metadata": {
        "id": "_GVtBxa_LOQy",
        "colab_type": "code",
        "colab": {
          "base_uri": "https://localhost:8080/",
          "height": 34
        },
        "outputId": "647e9813-5277-41b0-c81e-bad8f04bfa19"
      },
      "source": [
        "str1 = 'textový reťazec 1'\n",
        "str2 = 'textový reťazec 2'\n",
        "str12 = str1 + ', ' + str2\n",
        "print(str12)"
      ],
      "execution_count": 8,
      "outputs": [
        {
          "output_type": "stream",
          "text": [
            "textový reťazec 1, textový reťazec 2\n"
          ],
          "name": "stdout"
        }
      ]
    },
    {
      "cell_type": "markdown",
      "metadata": {
        "id": "Dp1subTbLOQ3",
        "colab_type": "text"
      },
      "source": [
        "### Formátovanie\n",
        "\n",
        "Vyššie uvedené formátovanie textu pomocou funkcie ``.format(...)`` pracuje tiež na úrovni textových reťazcov – dá sa použiť hocikde, nielen pri výpise:"
      ]
    },
    {
      "cell_type": "code",
      "metadata": {
        "id": "pMbMAa7YLOQ5",
        "colab_type": "code",
        "colab": {
          "base_uri": "https://localhost:8080/",
          "height": 34
        },
        "outputId": "fcb7e095-9b16-4a34-cf3e-195e06031c7f"
      },
      "source": [
        "z = \"zemiaky\"\n",
        "n = 4\n",
        "str1 = \"Mal som {} {}.\".format(n, z)\n",
        "print(str1)"
      ],
      "execution_count": 9,
      "outputs": [
        {
          "output_type": "stream",
          "text": [
            "Mal som 4 zemiaky.\n"
          ],
          "name": "stdout"
        }
      ]
    },
    {
      "cell_type": "markdown",
      "metadata": {
        "id": "dNXzXT2ELORA",
        "colab_type": "text"
      },
      "source": [
        "### Ďalšie operácie s reťazcami\n",
        "\n",
        "Textové reťazce majú ešte mnoho iných užitočných vstavaných funkcií, napr.:"
      ]
    },
    {
      "cell_type": "code",
      "metadata": {
        "id": "GVwhkE3zLORB",
        "colab_type": "code",
        "colab": {
          "base_uri": "https://localhost:8080/",
          "height": 69
        },
        "outputId": "698462c3-6bd6-4113-d820-96a2629a9219"
      },
      "source": [
        "str1 = '  textový reťazec 1   '\n",
        "print(str1.capitalize())             # Zmení prvé písmeno na veľké.\n",
        "print(str1.upper())                  # Zmení všetky písmená na veľké.\n",
        "print(str1.strip())                  # Ostráni biele znaky zo začiatku a konca reťazca."
      ],
      "execution_count": 10,
      "outputs": [
        {
          "output_type": "stream",
          "text": [
            "  textový reťazec 1   \n",
            "  TEXTOVÝ REŤAZEC 1   \n",
            "textový reťazec 1\n"
          ],
          "name": "stdout"
        }
      ]
    },
    {
      "cell_type": "markdown",
      "metadata": {
        "id": "XvKFfyoeLORJ",
        "colab_type": "text"
      },
      "source": [
        "## Porovnávanie hodnôt premenných\n",
        "\n",
        "Hodnota dvoch premenných sa porovnáva obdobne ako vo väčšine iných jazykov (napr. v C++):"
      ]
    },
    {
      "cell_type": "code",
      "metadata": {
        "scrolled": true,
        "id": "jmLcQ_tqLORO",
        "colab_type": "code",
        "colab": {
          "base_uri": "https://localhost:8080/",
          "height": 86
        },
        "outputId": "70bbbee3-4f1d-422c-a020-79cd89cda755"
      },
      "source": [
        "x = 1\n",
        "\n",
        "print(x == 1)                # rovnosť\n",
        "print(x != 1)                # nerovnosť\n",
        "\n",
        "str1 = 'textový reťazec 1'\n",
        "str2 = 'textový reťazec 2'\n",
        "\n",
        "print(str1 == str2)          # rovnosť\n",
        "print(str1 != str2)          # nerovnosť"
      ],
      "execution_count": 11,
      "outputs": [
        {
          "output_type": "stream",
          "text": [
            "True\n",
            "False\n",
            "False\n",
            "True\n"
          ],
          "name": "stdout"
        }
      ]
    },
    {
      "cell_type": "code",
      "metadata": {
        "id": "s4WffRsXLORT",
        "colab_type": "code",
        "colab": {}
      },
      "source": [
        ""
      ],
      "execution_count": 0,
      "outputs": []
    }
  ]
}