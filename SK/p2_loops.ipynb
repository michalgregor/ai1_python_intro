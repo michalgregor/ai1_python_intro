{
  "nbformat": 4,
  "nbformat_minor": 0,
  "metadata": {
    "kernelspec": {
      "display_name": "Python 3",
      "language": "python",
      "name": "python3"
    },
    "language_info": {
      "codemirror_mode": {
        "name": "ipython",
        "version": 3
      },
      "file_extension": ".py",
      "mimetype": "text/x-python",
      "name": "python",
      "nbconvert_exporter": "python",
      "pygments_lexer": "ipython3",
      "version": "3.6.7"
    },
    "colab": {
      "name": "p2_loops.ipynb",
      "version": "0.3.2",
      "provenance": [],
      "collapsed_sections": []
    }
  },
  "cells": [
    {
      "cell_type": "markdown",
      "metadata": {
        "collapsed": true,
        "id": "wiCBR90DMMrm",
        "colab_type": "text"
      },
      "source": [
        "# Cykly\n",
        "\n",
        "V Python-e sa neiteruje priamo pomocou klasického číselného cyklu ``for``. Iterácia je vždy cez nejaký objekt – buď cez určitý kontajner objektov (t.j. že určitá operácia sa vykoná pre každý objekt) alebo cez generátor – pomocný objekt, ktorý generuje čísla za behu.\n",
        "\n",
        "## Pomocný objekt typu ``range``\n",
        "\n",
        "V Python-e sa takýto typ cyklu implementuje pomoc pomocného objektu ``range``. ``range(a)`` je postupnosť čísel od ``0`` po ``a`` s krokom ``1`` (tak, že ``a`` už do postupnosti nepatrí), t.j.:"
      ]
    },
    {
      "cell_type": "code",
      "metadata": {
        "scrolled": true,
        "id": "i_Mdiej9MMr8",
        "colab_type": "code",
        "colab": {
          "base_uri": "https://localhost:8080/",
          "height": 34
        },
        "outputId": "60a21156-0040-43e2-80ba-566203a43e7f"
      },
      "source": [
        "print(list(range(10)))         # aby sme mohli postupnosť čísel vypísať\n",
        "                               # naraz, robíme z nej najprv zoznam, t.j. list"
      ],
      "execution_count": 1,
      "outputs": [
        {
          "output_type": "stream",
          "text": [
            "[0, 1, 2, 3, 4, 5, 6, 7, 8, 9]\n"
          ],
          "name": "stdout"
        }
      ]
    },
    {
      "cell_type": "markdown",
      "metadata": {
        "id": "Sjm3JQc2MMsV",
        "colab_type": "text"
      },
      "source": [
        "Ak chceme, aby postupnosť začala z iného počiatočného čísla, môžeme použiť rozšírenú verziu ``range(a, b)``, napr.:"
      ]
    },
    {
      "cell_type": "code",
      "metadata": {
        "id": "Q6O5q8yfMMsa",
        "colab_type": "code",
        "colab": {
          "base_uri": "https://localhost:8080/",
          "height": 34
        },
        "outputId": "f7fa16a0-8178-4d46-da51-fffdbc679cf5"
      },
      "source": [
        "print(list(range(2, 10)))     # postupnosť od 2 po 10 s krokom 1"
      ],
      "execution_count": 2,
      "outputs": [
        {
          "output_type": "stream",
          "text": [
            "[2, 3, 4, 5, 6, 7, 8, 9]\n"
          ],
          "name": "stdout"
        }
      ]
    },
    {
      "cell_type": "markdown",
      "metadata": {
        "id": "tpvlxPkFMMsm",
        "colab_type": "text"
      },
      "source": [
        "Ak chceme zmeniť aj veľkosť kroku, existuje verzia ``range(a, b, s)`` s tromi argumentami, kde ``s`` je krok:"
      ]
    },
    {
      "cell_type": "code",
      "metadata": {
        "id": "I-GRBk9HMMss",
        "colab_type": "code",
        "colab": {
          "base_uri": "https://localhost:8080/",
          "height": 34
        },
        "outputId": "81f0f675-63cc-4534-f75e-48b31eebf08f"
      },
      "source": [
        "print(list(range(2, 10, 3)))     # postupnosť od 2 po 10 s krokom 3"
      ],
      "execution_count": 3,
      "outputs": [
        {
          "output_type": "stream",
          "text": [
            "[2, 5, 8]\n"
          ],
          "name": "stdout"
        }
      ]
    },
    {
      "cell_type": "markdown",
      "metadata": {
        "id": "HjoixoGaMMs_",
        "colab_type": "text"
      },
      "source": [
        "## Cyklus typu ``for``\n",
        "\n",
        "Ak chceme teraz implementovať cyklus ``for``, ktorý by iteroval od 0 po 10 s krokom 1, vieme to urobiť pomocou pomocného objektu ``range``. Vieme už, že ``range`` objekt generujúci takúto postupnosť čísel získame jednoducho volaním ``range(10)``. Cyklus ``for`` bude potom vyzerať nasledovne:\n",
        "\n",
        "\n"
      ]
    },
    {
      "cell_type": "code",
      "metadata": {
        "id": "qPoJDvuGMMtC",
        "colab_type": "code",
        "colab": {
          "base_uri": "https://localhost:8080/",
          "height": 191
        },
        "outputId": "962745ad-1fb0-4af5-8226-8a9a88457bdf"
      },
      "source": [
        "for i in range(10):            # pre každé i z range(10) vypíš i\n",
        "    print(i)"
      ],
      "execution_count": 4,
      "outputs": [
        {
          "output_type": "stream",
          "text": [
            "0\n",
            "1\n",
            "2\n",
            "3\n",
            "4\n",
            "5\n",
            "6\n",
            "7\n",
            "8\n",
            "9\n"
          ],
          "name": "stdout"
        }
      ]
    },
    {
      "cell_type": "markdown",
      "metadata": {
        "id": "0qQb7YNIMMtP",
        "colab_type": "text"
      },
      "source": [
        "### Paralelná iterácia\n",
        "\n",
        "V Python-e je možné iterovať aj paralelne po dvoch iterovateľných objektoch – pomocou funkcie ``zip``:"
      ]
    },
    {
      "cell_type": "code",
      "metadata": {
        "id": "hKwID4gOMMtU",
        "colab_type": "code",
        "colab": {
          "base_uri": "https://localhost:8080/",
          "height": 104
        },
        "outputId": "0a80b2a5-b5b8-41c7-bb63-9380be2d5e08"
      },
      "source": [
        "for i, j in zip(range(0, 5), range(5, 10)):\n",
        "    print(i, j)"
      ],
      "execution_count": 5,
      "outputs": [
        {
          "output_type": "stream",
          "text": [
            "0 5\n",
            "1 6\n",
            "2 7\n",
            "3 8\n",
            "4 9\n"
          ],
          "name": "stdout"
        }
      ]
    },
    {
      "cell_type": "markdown",
      "metadata": {
        "id": "3pPlVsFhMMti",
        "colab_type": "text"
      },
      "source": [
        "<div style=\"background-color: #C2EB66; padding: 15px; padding-top: 5px; margin-top: 10px; margin-left:-15px\">\n",
        "<h2>Úloha</h2>\n",
        "\n",
        "Napíšte pomocou cyklu for kód, ktorý vypíše všetky párne čísla od 0 po 10:\n",
        "</div>"
      ]
    },
    {
      "cell_type": "code",
      "metadata": {
        "id": "2P-kN-1-MMtm",
        "colab_type": "code",
        "colab": {}
      },
      "source": [
        ""
      ],
      "execution_count": 0,
      "outputs": []
    },
    {
      "cell_type": "markdown",
      "metadata": {
        "id": "woLc-rqSMMtv",
        "colab_type": "text"
      },
      "source": [
        "## Cyklus  typu ``while``\n",
        "\n",
        "Tak ako iné jazyky, má aj Python okrem cyklu ``for`` aj cyklus ``while``, ktorý iteruje dovtedy, kým je splnená určitá podmienka, napr.:"
      ]
    },
    {
      "cell_type": "code",
      "metadata": {
        "id": "2LAgRR8VMMtx",
        "colab_type": "code",
        "colab": {
          "base_uri": "https://localhost:8080/",
          "height": 69
        },
        "outputId": "5db8b65e-6344-4d82-b66c-5939553f94c5"
      },
      "source": [
        "c = 2\n",
        "while c < 100:\n",
        "    c **= 2\n",
        "    print(c)"
      ],
      "execution_count": 6,
      "outputs": [
        {
          "output_type": "stream",
          "text": [
            "4\n",
            "16\n",
            "256\n"
          ],
          "name": "stdout"
        }
      ]
    },
    {
      "cell_type": "code",
      "metadata": {
        "id": "30mlNxXcMRR8",
        "colab_type": "code",
        "colab": {}
      },
      "source": [
        ""
      ],
      "execution_count": 0,
      "outputs": []
    }
  ]
}