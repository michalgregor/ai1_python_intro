{
  "nbformat": 4,
  "nbformat_minor": 0,
  "metadata": {
    "kernelspec": {
      "display_name": "Python 3",
      "language": "python",
      "name": "python3"
    },
    "language_info": {
      "codemirror_mode": {
        "name": "ipython",
        "version": 3
      },
      "file_extension": ".py",
      "mimetype": "text/x-python",
      "name": "python",
      "nbconvert_exporter": "python",
      "pygments_lexer": "ipython3",
      "version": "3.6.7"
    },
    "colab": {
      "name": "p6_numpy.ipynb",
      "version": "0.3.2",
      "provenance": [],
      "collapsed_sections": []
    }
  },
  "cells": [
    {
      "cell_type": "markdown",
      "metadata": {
        "id": "J5q_ZeXoM9e2",
        "colab_type": "text"
      },
      "source": [
        "# Balíček ``numpy``\n",
        "\n",
        "V jednom z notebook-ov sme už spomínali balíček ``numpy``. Je to jeden z najčastejšie používaných python-ových balíčkov. Obsahuje n-rozmerné polia, matice, umožňuje s nimi robiť základné matematické operácie atď.\n",
        "\n",
        "## Vytvorenie nového ``numpy`` poľa\n",
        "\n",
        "Prvý krok pri používaní balíčka ``numpy`` prirodzene je importovať ho. Tento balíček sa najčastejšie importuje pod skráteným názvom ``np``. Pole potom môžeme vytvoriť pomocou funkcie ``array`` ktorej ako argument dáme prvky poľa vo forme zoznamu, napr.:"
      ]
    },
    {
      "cell_type": "code",
      "metadata": {
        "id": "gV6b3fFKM9e_",
        "colab_type": "code",
        "colab": {
          "base_uri": "https://localhost:8080/",
          "height": 69
        },
        "outputId": "7c61a781-4ae2-44df-8497-e2ce50edd996"
      },
      "source": [
        "import numpy as np\n",
        "\n",
        "A = np.array([[1, 2.5, 3], [4, 5, 6], [7, 8, 9]])\n",
        "\n",
        "print(A)"
      ],
      "execution_count": 1,
      "outputs": [
        {
          "output_type": "stream",
          "text": [
            "[[1.  2.5 3. ]\n",
            " [4.  5.  6. ]\n",
            " [7.  8.  9. ]]\n"
          ],
          "name": "stdout"
        }
      ]
    },
    {
      "cell_type": "markdown",
      "metadata": {
        "id": "D8G4VFgBM9fR",
        "colab_type": "text"
      },
      "source": [
        "## Vytvorenie špeciálnych polí\n",
        "\n",
        "Existuje zopár funkcií, ktoré uľahčujú vytvorenie často používaných špeciálnych polí. Tvar poľa zadávame ako zoznam – ``[2, 2]`` – alebo n-ticu – ``(2, 2)``:"
      ]
    },
    {
      "cell_type": "code",
      "metadata": {
        "id": "uYkpci07M9fU",
        "colab_type": "code",
        "colab": {
          "base_uri": "https://localhost:8080/",
          "height": 382
        },
        "outputId": "8c8d2f2f-cebe-458d-da2d-021fec1505ff"
      },
      "source": [
        "# Vytvorenie poľa so samými nulami.\n",
        "A = np.zeros((3, 4))\n",
        "print(\"A = \\n{}\\n\".format(A))\n",
        "\n",
        "# Vytvorenie poľa so samými jednotkami.\n",
        "B = np.ones((3, 4))\n",
        "print(\"B = \\n{}\\n\".format(B))\n",
        "\n",
        "# Vytvorenie poľa naplneného danou konštantou.\n",
        "C = np.full((3, 4), 7)\n",
        "print(\"C = \\n{}\\n\".format(C))\n",
        "\n",
        "# Vytvorenie štvorcovej matice s jednotkami na diagonále (ostatné nuly).\n",
        "D = np.eye(4)\n",
        "print(\"D = \\n{}\\n\".format(D))"
      ],
      "execution_count": 2,
      "outputs": [
        {
          "output_type": "stream",
          "text": [
            "A = \n",
            "[[0. 0. 0. 0.]\n",
            " [0. 0. 0. 0.]\n",
            " [0. 0. 0. 0.]]\n",
            "\n",
            "B = \n",
            "[[1. 1. 1. 1.]\n",
            " [1. 1. 1. 1.]\n",
            " [1. 1. 1. 1.]]\n",
            "\n",
            "C = \n",
            "[[7 7 7 7]\n",
            " [7 7 7 7]\n",
            " [7 7 7 7]]\n",
            "\n",
            "D = \n",
            "[[1. 0. 0. 0.]\n",
            " [0. 1. 0. 0.]\n",
            " [0. 0. 1. 0.]\n",
            " [0. 0. 0. 1.]]\n",
            "\n"
          ],
          "name": "stdout"
        }
      ]
    },
    {
      "cell_type": "markdown",
      "metadata": {
        "id": "WNkDHYZxM9fe",
        "colab_type": "text"
      },
      "source": [
        "Polia môžu byť aj viacrozmerné, napr.:"
      ]
    },
    {
      "cell_type": "code",
      "metadata": {
        "id": "f24SFiHGM9fh",
        "colab_type": "code",
        "colab": {
          "base_uri": "https://localhost:8080/",
          "height": 104
        },
        "outputId": "3e205cfe-54f0-4ac1-aed4-063bc9dacdac"
      },
      "source": [
        "A = np.zeros([2, 2, 3])\n",
        "print(A)"
      ],
      "execution_count": 3,
      "outputs": [
        {
          "output_type": "stream",
          "text": [
            "[[[0. 0. 0.]\n",
            "  [0. 0. 0.]]\n",
            "\n",
            " [[0. 0. 0.]\n",
            "  [0. 0. 0.]]]\n"
          ],
          "name": "stdout"
        }
      ]
    },
    {
      "cell_type": "markdown",
      "metadata": {
        "id": "AEoPjGXvM9fp",
        "colab_type": "text"
      },
      "source": [
        "Existujú aj funkcie na generovanie náhodných polí:"
      ]
    },
    {
      "cell_type": "code",
      "metadata": {
        "id": "jHzD7J9xM9fs",
        "colab_type": "code",
        "colab": {
          "base_uri": "https://localhost:8080/",
          "height": 69
        },
        "outputId": "a3fd5dda-25a3-4f1d-cdf7-f149a46404cd"
      },
      "source": [
        "# Pole rozmeru 3x3 s náhodnými prvkami z intervalu [0, 5).\n",
        "A = np.random.uniform(0, 5, (3, 3))\n",
        "print(A)"
      ],
      "execution_count": 4,
      "outputs": [
        {
          "output_type": "stream",
          "text": [
            "[[2.60773716 2.17706944 1.86185908]\n",
            " [4.35785891 1.8030173  3.93301678]\n",
            " [4.78466791 2.15806406 0.35353672]]\n"
          ],
          "name": "stdout"
        }
      ]
    },
    {
      "cell_type": "markdown",
      "metadata": {
        "id": "HU-vrLeQM9fz",
        "colab_type": "text"
      },
      "source": [
        "## Indexovanie prvkov\n",
        "\n",
        "Jednotlivé prvky poľa sa indexujú tak, že sa v hranatých zátvorkách uvedú ich súradnice oddelené čiarkou:"
      ]
    },
    {
      "cell_type": "code",
      "metadata": {
        "id": "M_popI_UM9f3",
        "colab_type": "code",
        "colab": {
          "base_uri": "https://localhost:8080/",
          "height": 121
        },
        "outputId": "fb48ae9b-a6e3-40a0-8759-6c473f04428c"
      },
      "source": [
        "A = np.array([[1, 2, 3], [4, 5, 6]])\n",
        "print(\"A = \\n{}\\n\".format(A))\n",
        "\n",
        "a = A[0, 0]\n",
        "print(\"A[0, 0] = {}\".format(a))\n",
        "\n",
        "b = A[0, 1]\n",
        "print(\"A[0, 1] = {}\".format(b))"
      ],
      "execution_count": 5,
      "outputs": [
        {
          "output_type": "stream",
          "text": [
            "A = \n",
            "[[1 2 3]\n",
            " [4 5 6]]\n",
            "\n",
            "A[0, 0] = 1\n",
            "A[0, 1] = 2\n"
          ],
          "name": "stdout"
        }
      ]
    },
    {
      "cell_type": "markdown",
      "metadata": {
        "id": "J5QMl7owM9f_",
        "colab_type": "text"
      },
      "source": [
        "Pomocou ``:`` je možné adresovať aj určitý rozsah v danom rozmere alebo všetky prvky v danom rozmere:"
      ]
    },
    {
      "cell_type": "code",
      "metadata": {
        "id": "BchN0DkWM9gB",
        "colab_type": "code",
        "colab": {
          "base_uri": "https://localhost:8080/",
          "height": 208
        },
        "outputId": "bc2d54ce-ce77-4131-fe3f-ac5407a3fff2"
      },
      "source": [
        "A = np.array([[1, 2, 3], [4, 5, 6]])\n",
        "print(\"A = \\n{}\\n\".format(A))\n",
        "\n",
        "a = A[:2, 1]\n",
        "print(\"A[:2, 1] = {}\\n\".format(a))\n",
        "\n",
        "b = A[:, 0]\n",
        "print(\"A[:, 0] = {}\\n\".format(b))\n",
        "\n",
        "c = A[:2, :2]\n",
        "print(\"A[:2, :2] = \\n{}\".format(c))"
      ],
      "execution_count": 6,
      "outputs": [
        {
          "output_type": "stream",
          "text": [
            "A = \n",
            "[[1 2 3]\n",
            " [4 5 6]]\n",
            "\n",
            "A[:2, 1] = [2 5]\n",
            "\n",
            "A[:, 0] = [1 4]\n",
            "\n",
            "A[:2, :2] = \n",
            "[[1 2]\n",
            " [4 5]]\n"
          ],
          "name": "stdout"
        }
      ]
    },
    {
      "cell_type": "markdown",
      "metadata": {
        "id": "qEqtb62IM9gJ",
        "colab_type": "text"
      },
      "source": [
        "Podobne ako pri zoznamoch, dá sa prirodzene aj pri ``numpy`` poliach použiť indexovanie prvkov od konca pomocou záporných indexov."
      ]
    },
    {
      "cell_type": "markdown",
      "metadata": {
        "id": "e6lRrw0mM9gL",
        "colab_type": "text"
      },
      "source": [
        "## Tvar poľa\n",
        "\n",
        "Každé pole má určitý tvar; možno ho zistiť pomocou atribútu ``.shape``:"
      ]
    },
    {
      "cell_type": "code",
      "metadata": {
        "id": "dilS4VqGM9gN",
        "colab_type": "code",
        "colab": {
          "base_uri": "https://localhost:8080/",
          "height": 34
        },
        "outputId": "dc474e4e-0d2e-41d5-dcef-dc3455d6cde8"
      },
      "source": [
        "A = np.zeros([2, 2, 3])\n",
        "print(A.shape)"
      ],
      "execution_count": 7,
      "outputs": [
        {
          "output_type": "stream",
          "text": [
            "(2, 2, 3)\n"
          ],
          "name": "stdout"
        }
      ]
    },
    {
      "cell_type": "markdown",
      "metadata": {
        "id": "D_zCPsmIM9gU",
        "colab_type": "text"
      },
      "source": [
        "Tvar poľa sa dá aj zmeniť – pomocou metódy ``np.reshape``:"
      ]
    },
    {
      "cell_type": "code",
      "metadata": {
        "id": "Fg2w5g-ZM9gX",
        "colab_type": "code",
        "colab": {
          "base_uri": "https://localhost:8080/",
          "height": 69
        },
        "outputId": "4f42e8ce-9336-42b8-a185-1d52d3c5e85e"
      },
      "source": [
        "A = np.zeros([2, 2, 3])\n",
        "print(\"A.shape: {}\".format(A.shape))\n",
        "\n",
        "B = np.reshape(A, [3, 2, 2])\n",
        "print(\"B.shape: {}\".format(B.shape))\n",
        "\n",
        "# Jeden rozmer sa dá dorátať aj automaticky ak namiesto neho zadáme -1:\n",
        "C = np.reshape(A, [3, -1, 2])\n",
        "print(\"C.shape: {}\".format(C.shape))"
      ],
      "execution_count": 8,
      "outputs": [
        {
          "output_type": "stream",
          "text": [
            "A.shape: (2, 2, 3)\n",
            "B.shape: (3, 2, 2)\n",
            "C.shape: (3, 2, 2)\n"
          ],
          "name": "stdout"
        }
      ]
    },
    {
      "cell_type": "markdown",
      "metadata": {
        "id": "8jRVgfbuM9ge",
        "colab_type": "text"
      },
      "source": [
        "Transponovať (zmeniť poradie rozmerov) sa dá pole pomocou metódy ``.transpose``:"
      ]
    },
    {
      "cell_type": "code",
      "metadata": {
        "id": "jsk7mOq3M9gg",
        "colab_type": "code",
        "colab": {
          "base_uri": "https://localhost:8080/",
          "height": 173
        },
        "outputId": "ae3416f4-f8df-4636-d4ac-91b5996c4e4c"
      },
      "source": [
        "A = np.array([[1, 2, 3], [4, 5, 6]])\n",
        "print(\"A = \\n{}\\n\".format(A))\n",
        "\n",
        "AT = A.transpose()\n",
        "print(\"AT = \\n{}\\n\".format(AT))"
      ],
      "execution_count": 9,
      "outputs": [
        {
          "output_type": "stream",
          "text": [
            "A = \n",
            "[[1 2 3]\n",
            " [4 5 6]]\n",
            "\n",
            "AT = \n",
            "[[1 4]\n",
            " [2 5]\n",
            " [3 6]]\n",
            "\n"
          ],
          "name": "stdout"
        }
      ]
    },
    {
      "cell_type": "markdown",
      "metadata": {
        "id": "rgDK_fmJM9gm",
        "colab_type": "text"
      },
      "source": [
        "## Aritmetika s poľami\n",
        "\n",
        "S poľami sa dajú realizovať aj aritmetické operácie – napr. sčítanie alebo násobenie polí po prvkoch:"
      ]
    },
    {
      "cell_type": "code",
      "metadata": {
        "id": "Sg8M_QMzM9gp",
        "colab_type": "code",
        "colab": {
          "base_uri": "https://localhost:8080/",
          "height": 434
        },
        "outputId": "94dbeabf-a265-442c-e79e-988d1b86896c"
      },
      "source": [
        "A = np.array([[1, 2, 3], [4, 5, 6]])\n",
        "B = np.array([[6, 5, 4], [3, 2, 1]])\n",
        "print(\"A = \\n{}\\n\".format(A))\n",
        "print(\"B = \\n{}\\n\".format(B))\n",
        "\n",
        "# Sčítanie po prvkoch:\n",
        "C = A + B\n",
        "print(\"A + B = \\n{}\\n\".format(C))\n",
        "\n",
        "# Odčítanie po prvkoch:\n",
        "C = A - B\n",
        "print(\"A - B = \\n{}\\n\".format(C))\n",
        "\n",
        "# Násobenie po prvkoch:\n",
        "C = A * B\n",
        "print(\"A * B = \\n{}\\n\".format(C))\n",
        "\n",
        "# Delenie po prvkoch:\n",
        "C = A / B\n",
        "print(\"A / B = \\n{}\\n\".format(C))"
      ],
      "execution_count": 10,
      "outputs": [
        {
          "output_type": "stream",
          "text": [
            "A = \n",
            "[[1 2 3]\n",
            " [4 5 6]]\n",
            "\n",
            "B = \n",
            "[[6 5 4]\n",
            " [3 2 1]]\n",
            "\n",
            "A + B = \n",
            "[[7 7 7]\n",
            " [7 7 7]]\n",
            "\n",
            "A - B = \n",
            "[[-5 -3 -1]\n",
            " [ 1  3  5]]\n",
            "\n",
            "A * B = \n",
            "[[ 6 10 12]\n",
            " [12 10  6]]\n",
            "\n",
            "A / B = \n",
            "[[0.16666667 0.4        0.75      ]\n",
            " [1.33333333 2.5        6.        ]]\n",
            "\n"
          ],
          "name": "stdout"
        }
      ]
    },
    {
      "cell_type": "markdown",
      "metadata": {
        "id": "z5zhk-6wM9gu",
        "colab_type": "text"
      },
      "source": [
        "Balíček ```numpy``` obsahuje aj verzie klasických matematických funkcií ako ```sin```, ```cos``` alebo ```exp```, ktoré dokážu pracovať s poľami:"
      ]
    },
    {
      "cell_type": "code",
      "metadata": {
        "id": "cID8DhSAM9gx",
        "colab_type": "code",
        "colab": {
          "base_uri": "https://localhost:8080/",
          "height": 225
        },
        "outputId": "946ba0c3-e32a-46b3-ef9b-b9828de320bd"
      },
      "source": [
        "A = np.array([[1, 2, 3], [4, 5, 6]])\n",
        "print(\"A = \\n{}\\n\".format(A))\n",
        "\n",
        "sinA = np.sin(A)\n",
        "print(\"sin(A) = \\n{}\\n\".format(sinA))\n",
        "\n",
        "expA = np.exp(A)\n",
        "print(\"exp(A) = \\n{}\\n\".format(expA))"
      ],
      "execution_count": 11,
      "outputs": [
        {
          "output_type": "stream",
          "text": [
            "A = \n",
            "[[1 2 3]\n",
            " [4 5 6]]\n",
            "\n",
            "sin(A) = \n",
            "[[ 0.84147098  0.90929743  0.14112001]\n",
            " [-0.7568025  -0.95892427 -0.2794155 ]]\n",
            "\n",
            "exp(A) = \n",
            "[[  2.71828183   7.3890561   20.08553692]\n",
            " [ 54.59815003 148.4131591  403.42879349]]\n",
            "\n"
          ],
          "name": "stdout"
        }
      ]
    },
    {
      "cell_type": "markdown",
      "metadata": {
        "id": "81NRTdtXM9g5",
        "colab_type": "text"
      },
      "source": [
        "## Algebraické operácie\n",
        "\n",
        "S ```numpy``` poľami sa dajú vykonať aj klasické algebraické operácie – napr. skalárny súčin, násobenie matíc a pod.:"
      ]
    },
    {
      "cell_type": "code",
      "metadata": {
        "id": "tjc-LBDpM9g7",
        "colab_type": "code",
        "colab": {
          "base_uri": "https://localhost:8080/",
          "height": 86
        },
        "outputId": "c791a454-d9cb-4cf1-e1d6-f13284a88143"
      },
      "source": [
        "a = np.array([1, 2, 3])\n",
        "print(\"a = {}\".format(a))\n",
        "b = np.array([4, 5, 6])\n",
        "print(\"b = {}\\n\".format(b))\n",
        "\n",
        "c = np.dot(a, b)\n",
        "print(\"a.b = {}\".format(c))"
      ],
      "execution_count": 12,
      "outputs": [
        {
          "output_type": "stream",
          "text": [
            "a = [1 2 3]\n",
            "b = [4 5 6]\n",
            "\n",
            "a.b = 32\n"
          ],
          "name": "stdout"
        }
      ]
    },
    {
      "cell_type": "code",
      "metadata": {
        "id": "l9DawDAQM9hB",
        "colab_type": "code",
        "colab": {
          "base_uri": "https://localhost:8080/",
          "height": 208
        },
        "outputId": "3fc52d0c-a635-46cf-8baf-2ad5cb6c3573"
      },
      "source": [
        "A = np.array([[1, 2, 3], [4, 5, 6]])\n",
        "B = np.array([[6, 5, 4], [3, 2, 1]])\n",
        "print(\"A = \\n{}\\n\".format(A))\n",
        "print(\"B = \\n{}\\n\".format(B))\n",
        "\n",
        "C = np.matmul(A, B.transpose())\n",
        "print(\"A x B = \\n{}\".format(C))"
      ],
      "execution_count": 13,
      "outputs": [
        {
          "output_type": "stream",
          "text": [
            "A = \n",
            "[[1 2 3]\n",
            " [4 5 6]]\n",
            "\n",
            "B = \n",
            "[[6 5 4]\n",
            " [3 2 1]]\n",
            "\n",
            "A x B = \n",
            "[[28 10]\n",
            " [73 28]]\n"
          ],
          "name": "stdout"
        }
      ]
    },
    {
      "cell_type": "markdown",
      "metadata": {
        "id": "WRP1f3rCM9hG",
        "colab_type": "text"
      },
      "source": [
        "## Hromadné porovnávanie a indexovanie prvkov\n",
        "\n",
        "Pomocou ``numpy`` polí je možné realizovať aj hromadné porovnávanie prvkov – napr. identifikovať všetky prvky, ktoré sú väčšie, nanajvýš rovné 5. Výsledkom je binárne pole rovnakej veľkosti, ktoré špecifikuje či podmienka je pre daný prvok splnená alebo nie."
      ]
    },
    {
      "cell_type": "code",
      "metadata": {
        "id": "5YbOc94ZM9hI",
        "colab_type": "code",
        "colab": {
          "base_uri": "https://localhost:8080/",
          "height": 69
        },
        "outputId": "67bc8e41-1d8b-4d3b-ed12-b4846e00bce1"
      },
      "source": [
        "A = np.array([[1, 5, 2], [7, 3, 4], [8, 0, 2]])\n",
        "print(A >= 5)"
      ],
      "execution_count": 14,
      "outputs": [
        {
          "output_type": "stream",
          "text": [
            "[[False  True False]\n",
            " [ True False False]\n",
            " [ True False False]]\n"
          ],
          "name": "stdout"
        }
      ]
    },
    {
      "cell_type": "markdown",
      "metadata": {
        "id": "GU6JflF3M9hP",
        "colab_type": "text"
      },
      "source": [
        "Obdobne je možné prvky podľa určitej podmienky aj zaindexovať. Používa sa na to funkcia ``np.where``, ktorá z binárneho poľa vyberie súradnice ``True`` prvkov. Výslednými súradnicami je možné indexovať pôvobdné pole. Ak chceme napr. priradiť namiesto každého prvku väčšieho, nanajvýš rovného 5 číslo 111:"
      ]
    },
    {
      "cell_type": "code",
      "metadata": {
        "id": "beoKHMVvM9hR",
        "colab_type": "code",
        "colab": {
          "base_uri": "https://localhost:8080/",
          "height": 69
        },
        "outputId": "4f7e5cf2-1a5a-41ee-b0ed-7660911b3d72"
      },
      "source": [
        "A = np.array([[1, 5, 2], [7, 3, 4], [8, 0, 2]])\n",
        "index = np.where(A >= 5)\n",
        "A[index] = 111\n",
        "\n",
        "print(A)"
      ],
      "execution_count": 16,
      "outputs": [
        {
          "output_type": "stream",
          "text": [
            "[[  1 111   2]\n",
            " [111   3   4]\n",
            " [111   0   2]]\n"
          ],
          "name": "stdout"
        }
      ]
    },
    {
      "cell_type": "code",
      "metadata": {
        "id": "2ZvmVF4QNDpY",
        "colab_type": "code",
        "colab": {}
      },
      "source": [
        ""
      ],
      "execution_count": 0,
      "outputs": []
    }
  ]
}