{
  "nbformat": 4,
  "nbformat_minor": 0,
  "metadata": {
    "kernelspec": {
      "display_name": "Python 3",
      "language": "python",
      "name": "python3"
    },
    "language_info": {
      "codemirror_mode": {
        "name": "ipython",
        "version": 3
      },
      "file_extension": ".py",
      "mimetype": "text/x-python",
      "name": "python",
      "nbconvert_exporter": "python",
      "pygments_lexer": "ipython3",
      "version": "3.6.7"
    },
    "colab": {
      "name": "p7_pandas.ipynb",
      "version": "0.3.2",
      "provenance": [],
      "collapsed_sections": []
    }
  },
  "cells": [
    {
      "cell_type": "code",
      "metadata": {
        "id": "o7g8p9UfN7gg",
        "colab_type": "code",
        "colab": {
          "base_uri": "https://localhost:8080/",
          "height": 34
        },
        "outputId": "3b1e1fef-e74e-46f8-f3bc-fc9953bef769"
      },
      "source": [
        "# Uistíme sa, že máme všetky potrebné dáta\n",
        "!mkdir -p data\n",
        "!wget -nc -O data/iris.csv https://raw.githubusercontent.com/michalgregor/ai1_notebooks/master/data/iris.csv"
      ],
      "execution_count": 1,
      "outputs": [
        {
          "output_type": "stream",
          "text": [
            "File ‘data/iris.csv’ already there; not retrieving.\n"
          ],
          "name": "stdout"
        }
      ]
    },
    {
      "cell_type": "markdown",
      "metadata": {
        "id": "v69sPSoVNJUI",
        "colab_type": "text"
      },
      "source": [
        "# Balíček ``pandas``\n",
        "\n",
        "Pri práci s dátami vie byť veľmi užitočný balíček ```pandas```. Umožňuje načítať dáta z rôznych typov súborov, z databáz, komfortným spôsobom s nimi pracovať, vypočítať z nich základné štatistické ukazovatele, rýchlo zobraziť jednoduché grafy a pod.\n",
        "\n",
        "## Dátové rámce\n",
        "\n",
        "Základným dátovým typom v balíčku ``pandas`` sú dátové rámce – v podstate sú to tabuľky, kde stĺpce obsahujú určité pomenované atribúty a riadky zodpovedajú jednotlivým dátovým záznamom. Ak máme určité dáta s atribútmi ``attr1, attr2, attr3``, vieme dátový rámec vytvoriť nasledovným spôsobom:"
      ]
    },
    {
      "cell_type": "code",
      "metadata": {
        "id": "0cziufhTNJUV",
        "colab_type": "code",
        "colab": {
          "base_uri": "https://localhost:8080/",
          "height": 86
        },
        "outputId": "6f65707d-4f61-426e-81dc-79abb22ee211"
      },
      "source": [
        "import pandas as pd\n",
        "\n",
        "df = pd.DataFrame([[1, 2, 3], [4, 5, 6], [7, 8, 9]], columns=[\"attr1\", \"attr2\", \"attr3\"])\n",
        "print(df)"
      ],
      "execution_count": 2,
      "outputs": [
        {
          "output_type": "stream",
          "text": [
            "   attr1  attr2  attr3\n",
            "0      1      2      3\n",
            "1      4      5      6\n",
            "2      7      8      9\n"
          ],
          "name": "stdout"
        }
      ]
    },
    {
      "cell_type": "markdown",
      "metadata": {
        "id": "3t6vHAxaNJUx",
        "colab_type": "text"
      },
      "source": [
        "Z dátového rámca vieme ľahko vybrať niektoré stĺpce:"
      ]
    },
    {
      "cell_type": "code",
      "metadata": {
        "id": "UlRIsBKSNJU3",
        "colab_type": "code",
        "colab": {
          "base_uri": "https://localhost:8080/",
          "height": 86
        },
        "outputId": "7e7651a2-8fe3-4b1a-9748-6605e6ae3607"
      },
      "source": [
        "a = df[\"attr1\"]\n",
        "print(a)"
      ],
      "execution_count": 3,
      "outputs": [
        {
          "output_type": "stream",
          "text": [
            "0    1\n",
            "1    4\n",
            "2    7\n",
            "Name: attr1, dtype: int64\n"
          ],
          "name": "stdout"
        }
      ]
    },
    {
      "cell_type": "code",
      "metadata": {
        "id": "ws70h8wSNJVJ",
        "colab_type": "code",
        "colab": {
          "base_uri": "https://localhost:8080/",
          "height": 104
        },
        "outputId": "6da5a88f-2b08-4324-858d-6e532e4ee01f"
      },
      "source": [
        "b = df[[\"attr2\", \"attr3\"]]\n",
        "print('df[[\"attr2\", \"attr3\"]] = \\n{}'.format(b))"
      ],
      "execution_count": 4,
      "outputs": [
        {
          "output_type": "stream",
          "text": [
            "df[[\"attr2\", \"attr3\"]] = \n",
            "   attr2  attr3\n",
            "0      2      3\n",
            "1      5      6\n",
            "2      8      9\n"
          ],
          "name": "stdout"
        }
      ]
    },
    {
      "cell_type": "code",
      "metadata": {
        "id": "hsrlb6PVNJVW",
        "colab_type": "code",
        "colab": {
          "base_uri": "https://localhost:8080/",
          "height": 86
        },
        "outputId": "3f443c20-d01e-4b2c-b735-5dd4f8ef4f28"
      },
      "source": [
        "c = df.attr1\n",
        "print(c)"
      ],
      "execution_count": 5,
      "outputs": [
        {
          "output_type": "stream",
          "text": [
            "0    1\n",
            "1    4\n",
            "2    7\n",
            "Name: attr1, dtype: int64\n"
          ],
          "name": "stdout"
        }
      ]
    },
    {
      "cell_type": "markdown",
      "metadata": {
        "id": "_nss64bONJVi",
        "colab_type": "text"
      },
      "source": [
        "Nové stĺpce je možné doplniť tak, že ich adresujeme a priradíme do nich nejaký výraz:"
      ]
    },
    {
      "cell_type": "code",
      "metadata": {
        "id": "pKCZmNRYNJVn",
        "colab_type": "code",
        "colab": {
          "base_uri": "https://localhost:8080/",
          "height": 86
        },
        "outputId": "723a5627-e10b-486c-f076-f45b2183f8f4"
      },
      "source": [
        "df[\"attr4\"] = df[\"attr2\"] + df[\"attr3\"]\n",
        "print(df)"
      ],
      "execution_count": 6,
      "outputs": [
        {
          "output_type": "stream",
          "text": [
            "   attr1  attr2  attr3  attr4\n",
            "0      1      2      3      5\n",
            "1      4      5      6     11\n",
            "2      7      8      9     17\n"
          ],
          "name": "stdout"
        }
      ]
    },
    {
      "cell_type": "markdown",
      "metadata": {
        "id": "TgUMs40gNJVy",
        "colab_type": "text"
      },
      "source": [
        "Zoznam všetkých stĺpcov získame pomocou:"
      ]
    },
    {
      "cell_type": "code",
      "metadata": {
        "id": "zYApIZgzNJV1",
        "colab_type": "code",
        "colab": {
          "base_uri": "https://localhost:8080/",
          "height": 34
        },
        "outputId": "416b906b-d080-4762-a191-ea96ad99797a"
      },
      "source": [
        "cols = df.columns\n",
        "print(cols)"
      ],
      "execution_count": 7,
      "outputs": [
        {
          "output_type": "stream",
          "text": [
            "Index(['attr1', 'attr2', 'attr3', 'attr4'], dtype='object')\n"
          ],
          "name": "stdout"
        }
      ]
    },
    {
      "cell_type": "markdown",
      "metadata": {
        "id": "lgI8TImsNJWC",
        "colab_type": "text"
      },
      "source": [
        "Ak chceme vybrať stĺpec podľa číselného indexu:"
      ]
    },
    {
      "cell_type": "code",
      "metadata": {
        "id": "3TZmqLbGNJWH",
        "colab_type": "code",
        "colab": {
          "base_uri": "https://localhost:8080/",
          "height": 86
        },
        "outputId": "644d7933-f0cb-40f5-b1b8-1c481a1cb522"
      },
      "source": [
        "a = df.iloc[:, 1]\n",
        "print(a)"
      ],
      "execution_count": 8,
      "outputs": [
        {
          "output_type": "stream",
          "text": [
            "0    2\n",
            "1    5\n",
            "2    8\n",
            "Name: attr2, dtype: int64\n"
          ],
          "name": "stdout"
        }
      ]
    },
    {
      "cell_type": "markdown",
      "metadata": {
        "id": "sYaztVgsNJWP",
        "colab_type": "text"
      },
      "source": [
        "Alebo zvoliť len niektoré riadky:"
      ]
    },
    {
      "cell_type": "code",
      "metadata": {
        "id": "ag6_7tITNJWR",
        "colab_type": "code",
        "colab": {
          "base_uri": "https://localhost:8080/",
          "height": 69
        },
        "outputId": "6434b0c2-606e-40e8-a7b1-3a5b8ac5e826"
      },
      "source": [
        "a = df.iloc[1:3]\n",
        "print(a)"
      ],
      "execution_count": 9,
      "outputs": [
        {
          "output_type": "stream",
          "text": [
            "   attr1  attr2  attr3  attr4\n",
            "1      4      5      6     11\n",
            "2      7      8      9     17\n"
          ],
          "name": "stdout"
        }
      ]
    },
    {
      "cell_type": "markdown",
      "metadata": {
        "id": "63uvpR5uNJWa",
        "colab_type": "text"
      },
      "source": [
        "Použitím vlastnosti ``.values`` vieme z dátového rámca získať dáta v podobe klasického ``numpy`` poľa:"
      ]
    },
    {
      "cell_type": "code",
      "metadata": {
        "id": "PulAIt_dNJWd",
        "colab_type": "code",
        "colab": {
          "base_uri": "https://localhost:8080/",
          "height": 69
        },
        "outputId": "6caabe6e-8365-4a2d-9440-c9107cb239bc"
      },
      "source": [
        "print(df.values)"
      ],
      "execution_count": 10,
      "outputs": [
        {
          "output_type": "stream",
          "text": [
            "[[ 1  2  3  5]\n",
            " [ 4  5  6 11]\n",
            " [ 7  8  9 17]]\n"
          ],
          "name": "stdout"
        }
      ]
    },
    {
      "cell_type": "markdown",
      "metadata": {
        "id": "lz7VTqw7NJWm",
        "colab_type": "text"
      },
      "source": [
        "## Načítanie dát z csv súboru\n",
        "\n",
        "CSV súbory sú jednoduché textové súbory obsahujúce dáta oddelené čiarkami, napr.:\n",
        "```\n",
        "5.1,3.5,1.4,0.2,setosa\n",
        "7.0,3.2,4.7,1.4,versicolor\n",
        "6.7,3.1,5.6,2.4,virginica\n",
        "```\n",
        "\n",
        "V balíčku ```pandas``` sa dá na ich načítanie použiť funkcia ```read_csv```:"
      ]
    },
    {
      "cell_type": "code",
      "metadata": {
        "id": "s0URwjVnNJWp",
        "colab_type": "code",
        "colab": {
          "base_uri": "https://localhost:8080/",
          "height": 224
        },
        "outputId": "615eedfa-7c97-4cdd-d3a9-e114719fc268"
      },
      "source": [
        "import pandas as pd\n",
        "df = pd.read_csv('data/iris.csv')\n",
        "df.head()"
      ],
      "execution_count": 11,
      "outputs": [
        {
          "output_type": "execute_result",
          "data": {
            "text/html": [
              "<div>\n",
              "<style scoped>\n",
              "    .dataframe tbody tr th:only-of-type {\n",
              "        vertical-align: middle;\n",
              "    }\n",
              "\n",
              "    .dataframe tbody tr th {\n",
              "        vertical-align: top;\n",
              "    }\n",
              "\n",
              "    .dataframe thead th {\n",
              "        text-align: right;\n",
              "    }\n",
              "</style>\n",
              "<table border=\"1\" class=\"dataframe\">\n",
              "  <thead>\n",
              "    <tr style=\"text-align: right;\">\n",
              "      <th></th>\n",
              "      <th>sepal length (cm)</th>\n",
              "      <th>sepal width (cm)</th>\n",
              "      <th>petal length (cm)</th>\n",
              "      <th>petal width (cm)</th>\n",
              "      <th>species</th>\n",
              "    </tr>\n",
              "  </thead>\n",
              "  <tbody>\n",
              "    <tr>\n",
              "      <th>0</th>\n",
              "      <td>5.1</td>\n",
              "      <td>3.5</td>\n",
              "      <td>1.4</td>\n",
              "      <td>0.2</td>\n",
              "      <td>setosa</td>\n",
              "    </tr>\n",
              "    <tr>\n",
              "      <th>1</th>\n",
              "      <td>4.9</td>\n",
              "      <td>3.0</td>\n",
              "      <td>1.4</td>\n",
              "      <td>0.2</td>\n",
              "      <td>setosa</td>\n",
              "    </tr>\n",
              "    <tr>\n",
              "      <th>2</th>\n",
              "      <td>4.7</td>\n",
              "      <td>3.2</td>\n",
              "      <td>1.3</td>\n",
              "      <td>0.2</td>\n",
              "      <td>setosa</td>\n",
              "    </tr>\n",
              "    <tr>\n",
              "      <th>3</th>\n",
              "      <td>4.6</td>\n",
              "      <td>3.1</td>\n",
              "      <td>1.5</td>\n",
              "      <td>0.2</td>\n",
              "      <td>setosa</td>\n",
              "    </tr>\n",
              "    <tr>\n",
              "      <th>4</th>\n",
              "      <td>5.0</td>\n",
              "      <td>3.6</td>\n",
              "      <td>1.4</td>\n",
              "      <td>0.2</td>\n",
              "      <td>setosa</td>\n",
              "    </tr>\n",
              "  </tbody>\n",
              "</table>\n",
              "</div>"
            ],
            "text/plain": [
              "   sepal length (cm)  sepal width (cm)  ...  petal width (cm)  species\n",
              "0                5.1               3.5  ...               0.2   setosa\n",
              "1                4.9               3.0  ...               0.2   setosa\n",
              "2                4.7               3.2  ...               0.2   setosa\n",
              "3                4.6               3.1  ...               0.2   setosa\n",
              "4                5.0               3.6  ...               0.2   setosa\n",
              "\n",
              "[5 rows x 5 columns]"
            ]
          },
          "metadata": {
            "tags": []
          },
          "execution_count": 11
        }
      ]
    },
    {
      "cell_type": "markdown",
      "metadata": {
        "id": "J-gY2-hsNJWv",
        "colab_type": "text"
      },
      "source": [
        "Táto funkcia má zopár parametrov, ktoré treba správne nastaviť – napr. nastaviť ``sep=';'`` ak nie sú dáta oddelené čiarkami, ale bodkočiarkami alebo nastaviť ``header=False`` ak ``pandas`` nedeteguje správne, že CSV súbor nemá hlavičku."
      ]
    },
    {
      "cell_type": "markdown",
      "metadata": {
        "id": "uGmLjPUaNJWx",
        "colab_type": "text"
      },
      "source": [
        "## Prekódovanie kategorického atribútu na číselný\n",
        "\n",
        "Niektoré metódy nevedia pracovať s kategorickými atribútmi (takými, ktoré nadobúdajú určitý konečný počet slovných hodnôt). V tom prípade treba také atribúty prekódovať na číselné. Je to možné urobiť napríklad pomocou triedy ``OrdinalEncoder``  z balíčka ``sklearn``:"
      ]
    },
    {
      "cell_type": "code",
      "metadata": {
        "id": "aw-YnNKRO_Zz",
        "colab_type": "code",
        "colab": {
          "base_uri": "https://localhost:8080/",
          "height": 238
        },
        "outputId": "e72bc88e-7312-4ff9-dc4c-e7cfbd498456"
      },
      "source": [
        "from sklearn.preprocessing import OrdinalEncoder\n",
        "ordenc = OrdinalEncoder()\n",
        "\n",
        "# funkcia fit_transform nastaví parametre transformátora\n",
        "# na základe dát a zároveň navrátiť transformované dáta\n",
        "df['species_num'] = ordenc.fit_transform(df[['species']])\n",
        "\n",
        "# Z výsledku si pre kontrolu zobrazíme zopár vzoriek\n",
        "df[[\"species\", \"species_num\"]].iloc[[0, 1, 50, 80, 100, 101]]"
      ],
      "execution_count": 12,
      "outputs": [
        {
          "output_type": "execute_result",
          "data": {
            "text/html": [
              "<div>\n",
              "<style scoped>\n",
              "    .dataframe tbody tr th:only-of-type {\n",
              "        vertical-align: middle;\n",
              "    }\n",
              "\n",
              "    .dataframe tbody tr th {\n",
              "        vertical-align: top;\n",
              "    }\n",
              "\n",
              "    .dataframe thead th {\n",
              "        text-align: right;\n",
              "    }\n",
              "</style>\n",
              "<table border=\"1\" class=\"dataframe\">\n",
              "  <thead>\n",
              "    <tr style=\"text-align: right;\">\n",
              "      <th></th>\n",
              "      <th>species</th>\n",
              "      <th>species_num</th>\n",
              "    </tr>\n",
              "  </thead>\n",
              "  <tbody>\n",
              "    <tr>\n",
              "      <th>0</th>\n",
              "      <td>setosa</td>\n",
              "      <td>0.0</td>\n",
              "    </tr>\n",
              "    <tr>\n",
              "      <th>1</th>\n",
              "      <td>setosa</td>\n",
              "      <td>0.0</td>\n",
              "    </tr>\n",
              "    <tr>\n",
              "      <th>50</th>\n",
              "      <td>versicolor</td>\n",
              "      <td>1.0</td>\n",
              "    </tr>\n",
              "    <tr>\n",
              "      <th>80</th>\n",
              "      <td>versicolor</td>\n",
              "      <td>1.0</td>\n",
              "    </tr>\n",
              "    <tr>\n",
              "      <th>100</th>\n",
              "      <td>virginica</td>\n",
              "      <td>2.0</td>\n",
              "    </tr>\n",
              "    <tr>\n",
              "      <th>101</th>\n",
              "      <td>virginica</td>\n",
              "      <td>2.0</td>\n",
              "    </tr>\n",
              "  </tbody>\n",
              "</table>\n",
              "</div>"
            ],
            "text/plain": [
              "        species  species_num\n",
              "0        setosa          0.0\n",
              "1        setosa          0.0\n",
              "50   versicolor          1.0\n",
              "80   versicolor          1.0\n",
              "100   virginica          2.0\n",
              "101   virginica          2.0"
            ]
          },
          "metadata": {
            "tags": []
          },
          "execution_count": 12
        }
      ]
    },
    {
      "cell_type": "markdown",
      "metadata": {
        "id": "lLYwEVONNJW_",
        "colab_type": "text"
      },
      "source": [
        "## Jednoduché štatistiky a grafy\n",
        "\n",
        "Balíček ```pandas``` umožňuje zobraziť aj jednoduché štatistiky a grafy. Keby sme napríklad chceli vedieť základné informácie o rozdelení hodnôt v prvom stĺpci, môžeme použiť funkciu ```describe```."
      ]
    },
    {
      "cell_type": "code",
      "metadata": {
        "id": "l3ffCVO3NJXC",
        "colab_type": "code",
        "colab": {
          "base_uri": "https://localhost:8080/",
          "height": 173
        },
        "outputId": "159e3061-1d82-4581-ca5e-c36c8f45848e"
      },
      "source": [
        "print(df.iloc[:, 0].describe())"
      ],
      "execution_count": 13,
      "outputs": [
        {
          "output_type": "stream",
          "text": [
            "count    150.000000\n",
            "mean       5.843333\n",
            "std        0.828066\n",
            "min        4.300000\n",
            "25%        5.100000\n",
            "50%        5.800000\n",
            "75%        6.400000\n",
            "max        7.900000\n",
            "Name: sepal length (cm), dtype: float64\n"
          ],
          "name": "stdout"
        }
      ]
    },
    {
      "cell_type": "markdown",
      "metadata": {
        "id": "3NpvRZ6SNJXU",
        "colab_type": "text"
      },
      "source": [
        "### Boxplot\n",
        "\n",
        "Alebo si môžeme zobraziť ``boxplot``, ktorý nám dá podobnú informáciu v grafickej podobe:"
      ]
    },
    {
      "cell_type": "code",
      "metadata": {
        "id": "-5ejlUo4NJXX",
        "colab_type": "code",
        "colab": {
          "base_uri": "https://localhost:8080/",
          "height": 286
        },
        "outputId": "b0905e55-aa73-48ad-8527-2f774ae17536"
      },
      "source": [
        "df.boxplot(column=df.columns[0])"
      ],
      "execution_count": 14,
      "outputs": [
        {
          "output_type": "execute_result",
          "data": {
            "text/plain": [
              "<matplotlib.axes._subplots.AxesSubplot at 0x7fa21cdda780>"
            ]
          },
          "metadata": {
            "tags": []
          },
          "execution_count": 14
        },
        {
          "output_type": "display_data",
          "data": {
            "image/png": "[encoded data removed]",
            "text/plain": [
              "<Figure size 432x288 with 1 Axes>"
            ]
          },
          "metadata": {
            "tags": []
          }
        }
      ]
    },
    {
      "cell_type": "markdown",
      "metadata": {
        "id": "BWpnRI9xNJXf",
        "colab_type": "text"
      },
      "source": [
        "### Porovnanie boxplot-ov medzi triedami\n",
        "\n",
        "Ak chceme porovnať boxplot-y jednotlivých tried:"
      ]
    },
    {
      "cell_type": "code",
      "metadata": {
        "id": "VKGFXCxbNJXh",
        "colab_type": "code",
        "colab": {
          "base_uri": "https://localhost:8080/",
          "height": 318
        },
        "outputId": "4a9da3bf-6f1c-4cb7-ea88-6de4cacbebdd"
      },
      "source": [
        "df.boxplot(column=df.columns[0], by='species')"
      ],
      "execution_count": 15,
      "outputs": [
        {
          "output_type": "execute_result",
          "data": {
            "text/plain": [
              "<matplotlib.axes._subplots.AxesSubplot at 0x7fa212a79f60>"
            ]
          },
          "metadata": {
            "tags": []
          },
          "execution_count": 15
        },
        {
          "output_type": "display_data",
          "data": {
            "image/png": "[encoded data removed]",
            "text/plain": [
              "<Figure size 432x288 with 1 Axes>"
            ]
          },
          "metadata": {
            "tags": []
          }
        }
      ]
    },
    {
      "cell_type": "markdown",
      "metadata": {
        "id": "m1qISMOSNJXm",
        "colab_type": "text"
      },
      "source": [
        "### Histogramy\n",
        "\n",
        "Obdobne jednoduché je zobraziť histogram hodnôt zo stĺpca:"
      ]
    },
    {
      "cell_type": "code",
      "metadata": {
        "id": "6eKVNJdWNJXp",
        "colab_type": "code",
        "colab": {
          "base_uri": "https://localhost:8080/",
          "height": 286
        },
        "outputId": "011188f0-7ede-4000-8755-98891ff93799"
      },
      "source": [
        "df[df.columns[0]].plot(bins=20, kind='hist')"
      ],
      "execution_count": 16,
      "outputs": [
        {
          "output_type": "execute_result",
          "data": {
            "text/plain": [
              "<matplotlib.axes._subplots.AxesSubplot at 0x7fa2101bd2e8>"
            ]
          },
          "metadata": {
            "tags": []
          },
          "execution_count": 16
        },
        {
          "output_type": "display_data",
          "data": {
            "image/png": "[encoded data removed]",
            "text/plain": [
              "<Figure size 432x288 with 1 Axes>"
            ]
          },
          "metadata": {
            "tags": []
          }
        }
      ]
    },
    {
      "cell_type": "markdown",
      "metadata": {
        "id": "mp43MmwJNJXw",
        "colab_type": "text"
      },
      "source": [
        "### Porovnanie histogramov medzi triedami\n",
        "\n",
        "Ak chceme porovnať rozdelenie hodnôt naprieč triedami (```species```) môžeme použiť:"
      ]
    },
    {
      "cell_type": "code",
      "metadata": {
        "id": "GVz0dwQPNJXy",
        "colab_type": "code",
        "colab": {
          "base_uri": "https://localhost:8080/",
          "height": 589
        },
        "outputId": "92626200-6d6c-4da1-bba1-913043d8a925"
      },
      "source": [
        "df.hist(column=df.columns[0], by='species', bins=50,\n",
        "        sharex=True, sharey=True, figsize=[10, 8])"
      ],
      "execution_count": 20,
      "outputs": [
        {
          "output_type": "execute_result",
          "data": {
            "text/plain": [
              "array([[<matplotlib.axes._subplots.AxesSubplot object at 0x7fa20fa9f550>,\n",
              "        <matplotlib.axes._subplots.AxesSubplot object at 0x7fa20fa7da20>],\n",
              "       [<matplotlib.axes._subplots.AxesSubplot object at 0x7fa20fa18cc0>,\n",
              "        <matplotlib.axes._subplots.AxesSubplot object at 0x7fa20fa3ff98>]],\n",
              "      dtype=object)"
            ]
          },
          "metadata": {
            "tags": []
          },
          "execution_count": 20
        },
        {
          "output_type": "display_data",
          "data": {
            "image/png": "[encoded data removed]",
            "text/plain": [
              "<Figure size 720x576 with 4 Axes>"
            ]
          },
          "metadata": {
            "tags": []
          }
        }
      ]
    },
    {
      "cell_type": "markdown",
      "metadata": {
        "id": "4I2y_qkxNJX3",
        "colab_type": "text"
      },
      "source": [
        "## Aplikácia ľubovoľnej funkcie na celý stĺpec\n",
        "\n",
        "Vyššie sme ukázali ako je možné vytvoriť nový stĺpec.V zásade vieme na prvky existujúceho stĺpca aplikovať ľubovoľnú funkciu a výsledok uložiť ako nový stĺpec. Povedzme, že by sme chceli určiť aký počet znakov majú jednotlivé textové reťazce v stĺpci ```species``` v našej dátovej množine:"
      ]
    },
    {
      "cell_type": "code",
      "metadata": {
        "id": "izgOivIyNJX6",
        "colab_type": "code",
        "colab": {
          "base_uri": "https://localhost:8080/",
          "height": 139
        },
        "outputId": "3ae0b178-92dd-481e-ff1e-15a652730329"
      },
      "source": [
        "# transformácia\n",
        "df[\"len\"] = df[\"species\"].map(lambda x: len(x))\n",
        "\n",
        "# zobrazíme si niekoľko vzoriek\n",
        "df[\"len\"].iloc[[0, 1, 50, 80, 100, 101]]"
      ],
      "execution_count": 24,
      "outputs": [
        {
          "output_type": "execute_result",
          "data": {
            "text/plain": [
              "0       6\n",
              "1       6\n",
              "50     10\n",
              "80     10\n",
              "100     9\n",
              "101     9\n",
              "Name: len, dtype: int64"
            ]
          },
          "metadata": {
            "tags": []
          },
          "execution_count": 24
        }
      ]
    },
    {
      "cell_type": "markdown",
      "metadata": {
        "id": "Swx0GLzuNJX_",
        "colab_type": "text"
      },
      "source": [
        "## Hromadné porovnávanie a indexovanie prvkov\n",
        "\n",
        "Podobne ako v poliach z balíčka ``numpy``, aj v dátových rámcoch je možné nájsť a indexovať záznamy, ktoré spĺňajú určitú podmienku. Napr. vyberieme len tie riadky, kde hodnota nultého stĺpca je väčšia než 5."
      ]
    },
    {
      "cell_type": "code",
      "metadata": {
        "id": "HotNpsHiNJYB",
        "colab_type": "code",
        "colab": {
          "base_uri": "https://localhost:8080/",
          "height": 224
        },
        "outputId": "d2fea91d-b598-433b-df8e-7fac3b64cd5e"
      },
      "source": [
        "a = df[df.iloc[:, 0] > 5]\n",
        "a.head()"
      ],
      "execution_count": 25,
      "outputs": [
        {
          "output_type": "execute_result",
          "data": {
            "text/html": [
              "<div>\n",
              "<style scoped>\n",
              "    .dataframe tbody tr th:only-of-type {\n",
              "        vertical-align: middle;\n",
              "    }\n",
              "\n",
              "    .dataframe tbody tr th {\n",
              "        vertical-align: top;\n",
              "    }\n",
              "\n",
              "    .dataframe thead th {\n",
              "        text-align: right;\n",
              "    }\n",
              "</style>\n",
              "<table border=\"1\" class=\"dataframe\">\n",
              "  <thead>\n",
              "    <tr style=\"text-align: right;\">\n",
              "      <th></th>\n",
              "      <th>sepal length (cm)</th>\n",
              "      <th>sepal width (cm)</th>\n",
              "      <th>petal length (cm)</th>\n",
              "      <th>petal width (cm)</th>\n",
              "      <th>species</th>\n",
              "      <th>species_num</th>\n",
              "      <th>len</th>\n",
              "    </tr>\n",
              "  </thead>\n",
              "  <tbody>\n",
              "    <tr>\n",
              "      <th>0</th>\n",
              "      <td>5.1</td>\n",
              "      <td>3.5</td>\n",
              "      <td>1.4</td>\n",
              "      <td>0.2</td>\n",
              "      <td>setosa</td>\n",
              "      <td>0.0</td>\n",
              "      <td>6</td>\n",
              "    </tr>\n",
              "    <tr>\n",
              "      <th>5</th>\n",
              "      <td>5.4</td>\n",
              "      <td>3.9</td>\n",
              "      <td>1.7</td>\n",
              "      <td>0.4</td>\n",
              "      <td>setosa</td>\n",
              "      <td>0.0</td>\n",
              "      <td>6</td>\n",
              "    </tr>\n",
              "    <tr>\n",
              "      <th>10</th>\n",
              "      <td>5.4</td>\n",
              "      <td>3.7</td>\n",
              "      <td>1.5</td>\n",
              "      <td>0.2</td>\n",
              "      <td>setosa</td>\n",
              "      <td>0.0</td>\n",
              "      <td>6</td>\n",
              "    </tr>\n",
              "    <tr>\n",
              "      <th>14</th>\n",
              "      <td>5.8</td>\n",
              "      <td>4.0</td>\n",
              "      <td>1.2</td>\n",
              "      <td>0.2</td>\n",
              "      <td>setosa</td>\n",
              "      <td>0.0</td>\n",
              "      <td>6</td>\n",
              "    </tr>\n",
              "    <tr>\n",
              "      <th>15</th>\n",
              "      <td>5.7</td>\n",
              "      <td>4.4</td>\n",
              "      <td>1.5</td>\n",
              "      <td>0.4</td>\n",
              "      <td>setosa</td>\n",
              "      <td>0.0</td>\n",
              "      <td>6</td>\n",
              "    </tr>\n",
              "  </tbody>\n",
              "</table>\n",
              "</div>"
            ],
            "text/plain": [
              "    sepal length (cm)  sepal width (cm)  ...  species_num  len\n",
              "0                 5.1               3.5  ...          0.0    6\n",
              "5                 5.4               3.9  ...          0.0    6\n",
              "10                5.4               3.7  ...          0.0    6\n",
              "14                5.8               4.0  ...          0.0    6\n",
              "15                5.7               4.4  ...          0.0    6\n",
              "\n",
              "[5 rows x 7 columns]"
            ]
          },
          "metadata": {
            "tags": []
          },
          "execution_count": 25
        }
      ]
    },
    {
      "cell_type": "code",
      "metadata": {
        "id": "AnTJEoLHQdvl",
        "colab_type": "code",
        "colab": {}
      },
      "source": [
        ""
      ],
      "execution_count": 0,
      "outputs": []
    }
  ]
}