{
  "nbformat": 4,
  "nbformat_minor": 0,
  "metadata": {
    "kernelspec": {
      "display_name": "Python 3",
      "language": "python",
      "name": "python3"
    },
    "language_info": {
      "codemirror_mode": {
        "name": "ipython",
        "version": 3
      },
      "file_extension": ".py",
      "mimetype": "text/x-python",
      "name": "python",
      "nbconvert_exporter": "python",
      "pygments_lexer": "ipython3",
      "version": "3.6.7"
    },
    "colab": {
      "name": "p4_lists.ipynb",
      "version": "0.3.2",
      "provenance": [],
      "collapsed_sections": []
    }
  },
  "cells": [
    {
      "cell_type": "markdown",
      "metadata": {
        "collapsed": true,
        "id": "YLoFTQ6AMi0x",
        "colab_type": "text"
      },
      "source": [
        "# Zoznamy\n",
        "\n",
        "Ďalej sa pozrieme na základný typ kontajnerov, ktoré sú k dispozícii v Python-e: na zoznamy. Zoznam – ``list`` – môžeme chápať ako približnú analógiu polí a vektorov z C++. Zoznam sa dá vytvoriť jednoducho tak, že v hranatých zátvorkách vymenujeme jeho prvky oddelené čiarkou, napr.:"
      ]
    },
    {
      "cell_type": "code",
      "metadata": {
        "id": "e-zc72ThMi05",
        "colab_type": "code",
        "colab": {
          "base_uri": "https://localhost:8080/",
          "height": 34
        },
        "outputId": "a22cd85f-3280-48fa-a779-7d330ec06227"
      },
      "source": [
        "A = [1, 2, 3, 4, 5]\n",
        "print(A)"
      ],
      "execution_count": 1,
      "outputs": [
        {
          "output_type": "stream",
          "text": [
            "[1, 2, 3, 4, 5]\n"
          ],
          "name": "stdout"
        }
      ]
    },
    {
      "cell_type": "markdown",
      "metadata": {
        "id": "3H4yGTb8Mi1L",
        "colab_type": "text"
      },
      "source": [
        "Ako vidno, zoznamy sa dajú vypísať rovnako ako klasické premenné – priamo pomocou funkcie ``print``.\n",
        "\n",
        "Zoznam môže obsahovať ľubovoľné objekty – aj iné zoznamy:"
      ]
    },
    {
      "cell_type": "code",
      "metadata": {
        "id": "I6_XU3EGMi1O",
        "colab_type": "code",
        "colab": {
          "base_uri": "https://localhost:8080/",
          "height": 34
        },
        "outputId": "579d44ee-d97b-44f0-ebfd-90223d4fa4ad"
      },
      "source": [
        "B = [[3, 3, 3, 4], [1, 2], [7, 7, 7]]\n",
        "print(B)"
      ],
      "execution_count": 2,
      "outputs": [
        {
          "output_type": "stream",
          "text": [
            "[[3, 3, 3, 4], [1, 2], [7, 7, 7]]\n"
          ],
          "name": "stdout"
        }
      ]
    },
    {
      "cell_type": "markdown",
      "metadata": {
        "id": "CHfEid66Mi1Z",
        "colab_type": "text"
      },
      "source": [
        "## Indexovanie\n",
        "\n",
        "Prvky zoznamu sa indexujú pomocou hranatých zátvoriek. Indexuje sa od 0:"
      ]
    },
    {
      "cell_type": "code",
      "metadata": {
        "id": "Bv6cqWWdMi1c",
        "colab_type": "code",
        "colab": {
          "base_uri": "https://localhost:8080/",
          "height": 34
        },
        "outputId": "5d97b030-0186-421d-a115-6fc7f5f68606"
      },
      "source": [
        "A = [1, 2, 3, 4, 5]\n",
        "print(A[2])"
      ],
      "execution_count": 3,
      "outputs": [
        {
          "output_type": "stream",
          "text": [
            "3\n"
          ],
          "name": "stdout"
        }
      ]
    },
    {
      "cell_type": "markdown",
      "metadata": {
        "id": "VagfDDigMi1l",
        "colab_type": "text"
      },
      "source": [
        "Indexovať sa dajú aj segmenty zoznamu – v tom prípade sa udáva prvý prvok segmentu, dvojbodka a koniec segmentu:"
      ]
    },
    {
      "cell_type": "code",
      "metadata": {
        "id": "a9jorVYbMi1n",
        "colab_type": "code",
        "colab": {
          "base_uri": "https://localhost:8080/",
          "height": 34
        },
        "outputId": "0d833d99-b0c6-4499-9c21-ea1ed600b6b1"
      },
      "source": [
        "A = [1, 2, 3, 4, 5]\n",
        "print(A[1:4])"
      ],
      "execution_count": 4,
      "outputs": [
        {
          "output_type": "stream",
          "text": [
            "[2, 3, 4]\n"
          ],
          "name": "stdout"
        }
      ]
    },
    {
      "cell_type": "markdown",
      "metadata": {
        "id": "icsfCEZ8Mi1v",
        "colab_type": "text"
      },
      "source": [
        "Ďalšou užitočnou možnosťou je indexovanie prvkov od konca poľa – robí sa to pomocou záporných indexov. Index ``-1`` znamená posledný prvok, ``-2`` predposledný prvok atď. Napríklad:"
      ]
    },
    {
      "cell_type": "code",
      "metadata": {
        "id": "V9UF21QZMi1y",
        "colab_type": "code",
        "colab": {
          "base_uri": "https://localhost:8080/",
          "height": 156
        },
        "outputId": "33020d46-87b6-45da-f352-08b828bfd6af"
      },
      "source": [
        "A = [1, 2, 3, 4, 5]\n",
        "\n",
        "print(\"A = {}\\n\".format(A))\n",
        "print(\"A[-1] = {}\\n\".format(A[-1]))\n",
        "print(\"A[-2] = {}\\n\".format(A[-2]))\n",
        "print(\"A[2:-1] = {}\\n\".format(A[2:-1]))"
      ],
      "execution_count": 5,
      "outputs": [
        {
          "output_type": "stream",
          "text": [
            "A = [1, 2, 3, 4, 5]\n",
            "\n",
            "A[-1] = 5\n",
            "\n",
            "A[-2] = 4\n",
            "\n",
            "A[2:-1] = [3, 4]\n",
            "\n"
          ],
          "name": "stdout"
        }
      ]
    },
    {
      "cell_type": "markdown",
      "metadata": {
        "id": "AHQGymJ6Mi17",
        "colab_type": "text"
      },
      "source": [
        "## Veľkosť zoznamu\n",
        "\n",
        "Veľkosť zoznamu sa dá – podobne ako pri textových reťazcoch – zistiť pomocou funkcie ``len``:"
      ]
    },
    {
      "cell_type": "code",
      "metadata": {
        "id": "sErXNjp9Mi19",
        "colab_type": "code",
        "colab": {
          "base_uri": "https://localhost:8080/",
          "height": 34
        },
        "outputId": "fa99651a-0b22-49c5-8243-8016d7e055c3"
      },
      "source": [
        "A = [1, 2, 3, 4, 5]\n",
        "print(len(A))"
      ],
      "execution_count": 6,
      "outputs": [
        {
          "output_type": "stream",
          "text": [
            "5\n"
          ],
          "name": "stdout"
        }
      ]
    },
    {
      "cell_type": "markdown",
      "metadata": {
        "id": "_sHJpdliMi2F",
        "colab_type": "text"
      },
      "source": [
        "## Iterácia cez zoznamy\n",
        "\n",
        "Cez prvky zoznamu sa dá iterovať klasickým python-ovým ``for`` cyklom:"
      ]
    },
    {
      "cell_type": "code",
      "metadata": {
        "id": "9bt5QGaKMi2H",
        "colab_type": "code",
        "colab": {
          "base_uri": "https://localhost:8080/",
          "height": 104
        },
        "outputId": "abd9ad1b-73d4-48c9-fedf-7e4672022630"
      },
      "source": [
        "A = [1, 2, 3, 4, 5]\n",
        "\n",
        "for x in A:                       # pre každý prvok x zo zoznamu A\n",
        "    print(\"Prvok {}\".format(x))   # vypíš: Prvok x"
      ],
      "execution_count": 7,
      "outputs": [
        {
          "output_type": "stream",
          "text": [
            "Prvok 1\n",
            "Prvok 2\n",
            "Prvok 3\n",
            "Prvok 4\n",
            "Prvok 5\n"
          ],
          "name": "stdout"
        }
      ]
    },
    {
      "cell_type": "markdown",
      "metadata": {
        "id": "P1wPFuuXMi2V",
        "colab_type": "text"
      },
      "source": [
        "Ak potrebujeme počas iterácie poznať aj index prvku, môžeme použiť funkciu ``enumerate``:"
      ]
    },
    {
      "cell_type": "code",
      "metadata": {
        "id": "1xpQxU6fMi2Y",
        "colab_type": "code",
        "colab": {
          "base_uri": "https://localhost:8080/",
          "height": 104
        },
        "outputId": "30fc3bcf-50f6-4dad-ac73-bcfe270ed26b"
      },
      "source": [
        "A = [1, 2, 3, 4, 5]\n",
        "\n",
        "for i, x in enumerate(A):\n",
        "    print(\"Prvok {} = {}\".format(i, x))"
      ],
      "execution_count": 8,
      "outputs": [
        {
          "output_type": "stream",
          "text": [
            "Prvok 0 = 1\n",
            "Prvok 1 = 2\n",
            "Prvok 2 = 3\n",
            "Prvok 3 = 4\n",
            "Prvok 4 = 5\n"
          ],
          "name": "stdout"
        }
      ]
    },
    {
      "cell_type": "markdown",
      "metadata": {
        "id": "H3WYJPD4Mi2g",
        "colab_type": "text"
      },
      "source": [
        "Rovnako, ak chceme paralelne iterovať cez dva zoznamy, znovu môžeme použiť funkciu ``zip``:"
      ]
    },
    {
      "cell_type": "code",
      "metadata": {
        "id": "f5pmNhQYMi2i",
        "colab_type": "code",
        "colab": {
          "base_uri": "https://localhost:8080/",
          "height": 104
        },
        "outputId": "cba09d26-4954-4c1c-9347-90a4f5c9c778"
      },
      "source": [
        "A = [1, 2, 3, 4, 5]\n",
        "B = ['a', 'b', 'c', 'd', 'e']\n",
        "\n",
        "for a, b in zip(A, B):\n",
        "    print(a, b)"
      ],
      "execution_count": 9,
      "outputs": [
        {
          "output_type": "stream",
          "text": [
            "1 a\n",
            "2 b\n",
            "3 c\n",
            "4 d\n",
            "5 e\n"
          ],
          "name": "stdout"
        }
      ]
    },
    {
      "cell_type": "markdown",
      "metadata": {
        "id": "lXCd8aqSMi2o",
        "colab_type": "text"
      },
      "source": [
        "Obidve funkcie je možné aj kombinovať:"
      ]
    },
    {
      "cell_type": "code",
      "metadata": {
        "id": "CA8L7etNMi2q",
        "colab_type": "code",
        "colab": {
          "base_uri": "https://localhost:8080/",
          "height": 104
        },
        "outputId": "7a5c9819-30fa-422d-b400-80c492e853ce"
      },
      "source": [
        "A = [1, 2, 3, 4, 5]\n",
        "B = ['a', 'b', 'c', 'd', 'e']\n",
        "\n",
        "for i, (a, b) in enumerate(zip(A, B)):\n",
        "    print(i, a, b)"
      ],
      "execution_count": 10,
      "outputs": [
        {
          "output_type": "stream",
          "text": [
            "0 1 a\n",
            "1 2 b\n",
            "2 3 c\n",
            "3 4 d\n",
            "4 5 e\n"
          ],
          "name": "stdout"
        }
      ]
    },
    {
      "cell_type": "markdown",
      "metadata": {
        "id": "pvC4UdneMi2w",
        "colab_type": "text"
      },
      "source": [
        "Obdobná pomocná funkcia existuje aj pre iteráciu v obrátenom poradí – t.j. od posledného prvku po prvý prvok. Nazýva sa ``reversed`` a jej použitie môže vyzerať nasledovne:"
      ]
    },
    {
      "cell_type": "code",
      "metadata": {
        "id": "mk2PtRkjMi2x",
        "colab_type": "code",
        "colab": {
          "base_uri": "https://localhost:8080/",
          "height": 104
        },
        "outputId": "8510784b-526b-47af-a14c-828e8d67bec7"
      },
      "source": [
        "A = [1, 2, 3, 4, 5]\n",
        "\n",
        "for a in reversed(A):\n",
        "    print(a)"
      ],
      "execution_count": 11,
      "outputs": [
        {
          "output_type": "stream",
          "text": [
            "5\n",
            "4\n",
            "3\n",
            "2\n",
            "1\n"
          ],
          "name": "stdout"
        }
      ]
    },
    {
      "cell_type": "markdown",
      "metadata": {
        "id": "fStgLO3UMi27",
        "colab_type": "text"
      },
      "source": [
        "## Operátor ``+``\n",
        "\n",
        "Zoznamy sa dajú spájať pomocou operátora ``+``:"
      ]
    },
    {
      "cell_type": "code",
      "metadata": {
        "id": "llny3YQqMi29",
        "colab_type": "code",
        "colab": {
          "base_uri": "https://localhost:8080/",
          "height": 34
        },
        "outputId": "8a17b0f0-9052-4dc1-f6b9-e17daef983b5"
      },
      "source": [
        "A = [1, 2, 3, 4, 5]\n",
        "B = [6, 7, 8, 9, 10]\n",
        "\n",
        "C = A + B\n",
        "\n",
        "print(C)"
      ],
      "execution_count": 12,
      "outputs": [
        {
          "output_type": "stream",
          "text": [
            "[1, 2, 3, 4, 5, 6, 7, 8, 9, 10]\n"
          ],
          "name": "stdout"
        }
      ]
    },
    {
      "cell_type": "markdown",
      "metadata": {
        "id": "Q0TsKl5bMi3C",
        "colab_type": "text"
      },
      "source": [
        "## Prázdny zoznam\n",
        "\n",
        "Je možné vytvoriť aj prázdny zoznam:"
      ]
    },
    {
      "cell_type": "code",
      "metadata": {
        "id": "cFIOWb32Mi3E",
        "colab_type": "code",
        "colab": {
          "base_uri": "https://localhost:8080/",
          "height": 52
        },
        "outputId": "a017f4fc-7384-4cfc-f478-45e2b86ccdfd"
      },
      "source": [
        "A = []\n",
        "print(A)\n",
        "\n",
        "A2 = list()\n",
        "print(A2)"
      ],
      "execution_count": 13,
      "outputs": [
        {
          "output_type": "stream",
          "text": [
            "[]\n",
            "[]\n"
          ],
          "name": "stdout"
        }
      ]
    },
    {
      "cell_type": "markdown",
      "metadata": {
        "id": "EmAb3CxzMi3L",
        "colab_type": "text"
      },
      "source": [
        "## Pridávanie prvkov\n",
        "\n",
        "Pomocou funkcie ``append`` sa dajú na koniec zoznamu pridávať ďalšie prvky:"
      ]
    },
    {
      "cell_type": "code",
      "metadata": {
        "id": "1o6noSalMi3M",
        "colab_type": "code",
        "colab": {
          "base_uri": "https://localhost:8080/",
          "height": 34
        },
        "outputId": "44ab8e7e-2289-4b24-d3fe-561d64b4300b"
      },
      "source": [
        "A = []\n",
        "A.append(1)\n",
        "A.append(2)\n",
        "\n",
        "print(A)"
      ],
      "execution_count": 14,
      "outputs": [
        {
          "output_type": "stream",
          "text": [
            "[1, 2]\n"
          ],
          "name": "stdout"
        }
      ]
    },
    {
      "cell_type": "markdown",
      "metadata": {
        "id": "IBTdnHvrMi3T",
        "colab_type": "text"
      },
      "source": [
        "Ak chceme pridať viacero prvkov naraz, môžeme použiť funkciu ``extend``:"
      ]
    },
    {
      "cell_type": "code",
      "metadata": {
        "id": "i5iLOGnvMi3U",
        "colab_type": "code",
        "colab": {
          "base_uri": "https://localhost:8080/",
          "height": 34
        },
        "outputId": "c292fdab-e17c-4797-fe1f-5dbe9cba19e0"
      },
      "source": [
        "A = [1, 2]\n",
        "A.extend([3, 4, 5])\n",
        "\n",
        "print(A)"
      ],
      "execution_count": 15,
      "outputs": [
        {
          "output_type": "stream",
          "text": [
            "[1, 2, 3, 4, 5]\n"
          ],
          "name": "stdout"
        }
      ]
    },
    {
      "cell_type": "markdown",
      "metadata": {
        "id": "zMWlTLo7Mi3a",
        "colab_type": "text"
      },
      "source": [
        "Pri použití funkcie ``append`` by sa totiž celý zoznam pridal ako jeden prvok:"
      ]
    },
    {
      "cell_type": "code",
      "metadata": {
        "id": "kcIRhsSVMi3b",
        "colab_type": "code",
        "colab": {
          "base_uri": "https://localhost:8080/",
          "height": 34
        },
        "outputId": "dfaf1260-9227-45a9-9103-2c41378b35c1"
      },
      "source": [
        "A = [1, 2]\n",
        "A.append([3, 4, 5])\n",
        "\n",
        "print(A)"
      ],
      "execution_count": 16,
      "outputs": [
        {
          "output_type": "stream",
          "text": [
            "[1, 2, [3, 4, 5]]\n"
          ],
          "name": "stdout"
        }
      ]
    },
    {
      "cell_type": "markdown",
      "metadata": {
        "id": "-Zi2w9R9Mi3i",
        "colab_type": "text"
      },
      "source": [
        "Prvky sa dajú vkladať aj doprostred zoznamu. Použijeme funkciu ``insert`` – ako prvý argument dávame pozíciu prvku pred ktorý sa má vkladať a ako druhý nový prvok, ktorý sa má vložiť:"
      ]
    },
    {
      "cell_type": "code",
      "metadata": {
        "id": "lOXetEn1Mi3i",
        "colab_type": "code",
        "colab": {
          "base_uri": "https://localhost:8080/",
          "height": 34
        },
        "outputId": "0ac4c871-a4b3-4e8c-83ab-896b08a20a93"
      },
      "source": [
        "A = [1, 2, 3]\n",
        "A.insert(2, 11)\n",
        "\n",
        "print(A)"
      ],
      "execution_count": 17,
      "outputs": [
        {
          "output_type": "stream",
          "text": [
            "[1, 2, 11, 3]\n"
          ],
          "name": "stdout"
        }
      ]
    },
    {
      "cell_type": "markdown",
      "metadata": {
        "id": "2u8xSNchMi3n",
        "colab_type": "text"
      },
      "source": [
        "## Mazanie prvkov\n",
        "\n",
        "Prvky sa dajú zo zoznamu aj mazať – pomocou kľúčového slova ``del``:"
      ]
    },
    {
      "cell_type": "code",
      "metadata": {
        "id": "_BbDspAoMi3q",
        "colab_type": "code",
        "colab": {
          "base_uri": "https://localhost:8080/",
          "height": 34
        },
        "outputId": "674f7c3c-11a3-4a67-fc78-d2f3c8bf4f42"
      },
      "source": [
        "A = [1, 2, 3]\n",
        "del A[1]\n",
        "\n",
        "print(A)"
      ],
      "execution_count": 18,
      "outputs": [
        {
          "output_type": "stream",
          "text": [
            "[1, 3]\n"
          ],
          "name": "stdout"
        }
      ]
    },
    {
      "cell_type": "markdown",
      "metadata": {
        "collapsed": true,
        "id": "JTBIfvNZMi3u",
        "colab_type": "text"
      },
      "source": [
        "## List comprehensions\n",
        "\n",
        "Zoznamy sa dajú vytvárať aj skráteným zápisom – pomocou tzv. *list comprehensions*:"
      ]
    },
    {
      "cell_type": "code",
      "metadata": {
        "scrolled": true,
        "id": "1YVVfRg4Mi3w",
        "colab_type": "code",
        "colab": {
          "base_uri": "https://localhost:8080/",
          "height": 34
        },
        "outputId": "b76dda10-5ada-46c9-cb2d-a3e22a38ac75"
      },
      "source": [
        "# Pre každé i z <0, 10) pridá do zoznamu druhú mocninu i:\n",
        "L = [x**2 for x in range(10)] \n",
        "print(L)"
      ],
      "execution_count": 19,
      "outputs": [
        {
          "output_type": "stream",
          "text": [
            "[0, 1, 4, 9, 16, 25, 36, 49, 64, 81]\n"
          ],
          "name": "stdout"
        }
      ]
    },
    {
      "cell_type": "code",
      "metadata": {
        "id": "e7x5b1MCMtKz",
        "colab_type": "code",
        "colab": {}
      },
      "source": [
        ""
      ],
      "execution_count": 0,
      "outputs": []
    }
  ]
}