{
  "nbformat": 4,
  "nbformat_minor": 0,
  "metadata": {
    "kernelspec": {
      "display_name": "Python 3",
      "language": "python",
      "name": "python3"
    },
    "language_info": {
      "codemirror_mode": {
        "name": "ipython",
        "version": 3
      },
      "file_extension": ".py",
      "mimetype": "text/x-python",
      "name": "python",
      "nbconvert_exporter": "python",
      "pygments_lexer": "ipython3",
      "version": "3.6.7"
    },
    "colab": {
      "name": "p5_dictionary.ipynb",
      "version": "0.3.2",
      "provenance": [],
      "collapsed_sections": []
    }
  },
  "cells": [
    {
      "cell_type": "markdown",
      "metadata": {
        "id": "dVirABjyMyQw",
        "colab_type": "text"
      },
      "source": [
        "# Slovník – ``dict``"
      ]
    },
    {
      "cell_type": "markdown",
      "metadata": {
        "collapsed": true,
        "id": "kF_-uuSdMyQ3",
        "colab_type": "text"
      },
      "source": [
        "Užitočným pythonovým kontajnerom je aj slovník – ``dict`` (z angl. dictionary). Slovník sa neindexuje klasicky číslami, ale ľubovoľnými objektami (takými, ktoré sa dajú hashovať), najčastejšie textovými reťazcami.\n",
        "\n",
        "Povedzme, že v kine dávajú tri predstavenia: Superman IV., Hobbit a Rogue One a ku každému z nich si chceme uložiť cenu vstupného tak, aby sme sa na ňu mohli dotazovať podľa názvu filmu:"
      ]
    },
    {
      "cell_type": "code",
      "metadata": {
        "id": "AukbMiE_MyQ7",
        "colab_type": "code",
        "colab": {
          "base_uri": "https://localhost:8080/",
          "height": 34
        },
        "outputId": "6d22282d-a058-407e-9f3f-e039e506887a"
      },
      "source": [
        "vstupne_na_film = {'superman_iv': 5, 'hobbit': 7, 'rogue_one': 11}\n",
        "print(vstupne_na_film['hobbit'])"
      ],
      "execution_count": 1,
      "outputs": [
        {
          "output_type": "stream",
          "text": [
            "7\n"
          ],
          "name": "stdout"
        }
      ]
    },
    {
      "cell_type": "markdown",
      "metadata": {
        "id": "ChKdjKKTMyRL",
        "colab_type": "text"
      },
      "source": [
        "## Prázdny slovník\n",
        "\n",
        "Dá sa vytvoriť aj prázdny slovník:"
      ]
    },
    {
      "cell_type": "code",
      "metadata": {
        "id": "0XBiOSfLMyRO",
        "colab_type": "code",
        "colab": {
          "base_uri": "https://localhost:8080/",
          "height": 52
        },
        "outputId": "89ceadfa-ced6-4e74-91c5-99974e750c94"
      },
      "source": [
        "vstupne_na_film = {}\n",
        "print(vstupne_na_film)\n",
        "\n",
        "vstupne_na_film2 = dict()\n",
        "print(vstupne_na_film2)"
      ],
      "execution_count": 2,
      "outputs": [
        {
          "output_type": "stream",
          "text": [
            "{}\n",
            "{}\n"
          ],
          "name": "stdout"
        }
      ]
    },
    {
      "cell_type": "markdown",
      "metadata": {
        "id": "QSSQ08HMMyRX",
        "colab_type": "text"
      },
      "source": [
        "## Pridávanie prvkov\n",
        "\n",
        "Pridať ďalšie prvky je možné jednoducho pomocou:"
      ]
    },
    {
      "cell_type": "code",
      "metadata": {
        "id": "wr1QB2QKMyRa",
        "colab_type": "code",
        "colab": {
          "base_uri": "https://localhost:8080/",
          "height": 34
        },
        "outputId": "4cf67653-735a-47f2-fbf2-e3b0726c0464"
      },
      "source": [
        "vstupne_na_film = {}\n",
        "vstupne_na_film[\"shadowlands\"] = 7\n",
        "vstupne_na_film[\"alice_in_wonderland\"] = 4\n",
        "\n",
        "print(vstupne_na_film)"
      ],
      "execution_count": 3,
      "outputs": [
        {
          "output_type": "stream",
          "text": [
            "{'shadowlands': 7, 'alice_in_wonderland': 4}\n"
          ],
          "name": "stdout"
        }
      ]
    },
    {
      "cell_type": "markdown",
      "metadata": {
        "id": "mSG4juRfMyRh",
        "colab_type": "text"
      },
      "source": [
        "## Obsahuje slovník kľúč x?\n",
        "\n",
        "Ak chceme overiť, či slovník obsahuje určitý kľúč, môžeme to urobiť pomocou kľúčového slova ``in``:"
      ]
    },
    {
      "cell_type": "code",
      "metadata": {
        "id": "K-PQ4-PtMyRk",
        "colab_type": "code",
        "colab": {
          "base_uri": "https://localhost:8080/",
          "height": 34
        },
        "outputId": "0b6768a8-166c-44a8-920e-0dade646b756"
      },
      "source": [
        "vstupne_na_film = {'superman_iv': 5, 'hobbit': 7, 'rogue_one': 11}\n",
        "\n",
        "print('superman_iv' in vstupne_na_film)"
      ],
      "execution_count": 4,
      "outputs": [
        {
          "output_type": "stream",
          "text": [
            "True\n"
          ],
          "name": "stdout"
        }
      ]
    },
    {
      "cell_type": "markdown",
      "metadata": {
        "id": "6FXIOAdUMyRs",
        "colab_type": "text"
      },
      "source": [
        "## Vymazávanie zo slovníka\n",
        "\n",
        "Vymazávanie prvkov zo slovníka je obdobné ako v prípade zoznamov – opäť použijeme kľúčové slovo ``del``:"
      ]
    },
    {
      "cell_type": "code",
      "metadata": {
        "id": "8Oba-jXAMyRw",
        "colab_type": "code",
        "colab": {
          "base_uri": "https://localhost:8080/",
          "height": 34
        },
        "outputId": "b447a77c-0c1b-40b0-aeec-8f7e0f75e3ad"
      },
      "source": [
        "vstupne_na_film = {'superman_iv': 5, 'hobbit': 7, 'rogue_one': 11}\n",
        "del vstupne_na_film['superman_iv']\n",
        "\n",
        "print(vstupne_na_film)"
      ],
      "execution_count": 5,
      "outputs": [
        {
          "output_type": "stream",
          "text": [
            "{'hobbit': 7, 'rogue_one': 11}\n"
          ],
          "name": "stdout"
        }
      ]
    },
    {
      "cell_type": "markdown",
      "metadata": {
        "id": "k6oAyik1MyR3",
        "colab_type": "text"
      },
      "source": [
        "## Iterácia cez slovníky\n",
        "\n"
      ]
    },
    {
      "cell_type": "markdown",
      "metadata": {
        "id": "V6Wko0eQMyR6",
        "colab_type": "text"
      },
      "source": [
        "Cez slovníky je možné iterovať viacerými spôsobmi: buď po dvojiciach (kľúč, hodnota) alebo osobitne po kľúčoch alebo osobitne po hodnotách:"
      ]
    },
    {
      "cell_type": "code",
      "metadata": {
        "id": "s6yViNp3MyR8",
        "colab_type": "code",
        "colab": {
          "base_uri": "https://localhost:8080/",
          "height": 260
        },
        "outputId": "0004fd29-2840-4306-efb0-04e148086515"
      },
      "source": [
        "vstupne_na_film = {'superman_iv': 5, 'hobbit': 7, 'rogue_one': 11}\n",
        "\n",
        "print(\"po dvojiciach:\")\n",
        "for k, v in vstupne_na_film.items():\n",
        "    print(k, v)\n",
        "    \n",
        "print(\"\\npo kľúčoch:\")\n",
        "for k in vstupne_na_film.keys():\n",
        "    print(k)\n",
        "    \n",
        "print(\"\\npo hodnotách:\")\n",
        "for v in vstupne_na_film.values():\n",
        "    print(v)"
      ],
      "execution_count": 6,
      "outputs": [
        {
          "output_type": "stream",
          "text": [
            "po dvojiciach:\n",
            "superman_iv 5\n",
            "hobbit 7\n",
            "rogue_one 11\n",
            "\n",
            "po kľúčoch:\n",
            "superman_iv\n",
            "hobbit\n",
            "rogue_one\n",
            "\n",
            "po hodnotách:\n",
            "5\n",
            "7\n",
            "11\n"
          ],
          "name": "stdout"
        }
      ]
    },
    {
      "cell_type": "markdown",
      "metadata": {
        "id": "EQLR5PnNMySD",
        "colab_type": "text"
      },
      "source": [
        "## Dict comprehensions\n",
        "\n",
        "Podobne ako zoznamy, aj slovníky sa dajú vytvárať pomocou comprehensions, napr.:"
      ]
    },
    {
      "cell_type": "code",
      "metadata": {
        "id": "VoMugwv9MySF",
        "colab_type": "code",
        "colab": {
          "base_uri": "https://localhost:8080/",
          "height": 34
        },
        "outputId": "3b6ad0d0-a11f-4744-c8cf-04ea9b989dd6"
      },
      "source": [
        "filmy = ['superman_iv', 'hobbit', 'rogue_one']\n",
        "vstupne = [5, 7, 11]\n",
        "\n",
        "vstupne_na_film = {k: v for k, v in zip(filmy, vstupne)}\n",
        "\n",
        "print(vstupne_na_film)"
      ],
      "execution_count": 8,
      "outputs": [
        {
          "output_type": "stream",
          "text": [
            "{'superman_iv': 5, 'hobbit': 7, 'rogue_one': 11}\n"
          ],
          "name": "stdout"
        }
      ]
    },
    {
      "cell_type": "code",
      "metadata": {
        "id": "sM8WlR4SM4Qd",
        "colab_type": "code",
        "colab": {}
      },
      "source": [
        ""
      ],
      "execution_count": 0,
      "outputs": []
    }
  ]
}