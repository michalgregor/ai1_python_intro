{
  "nbformat": 4,
  "nbformat_minor": 0,
  "metadata": {
    "kernelspec": {
      "display_name": "Python 3",
      "language": "python",
      "name": "python3"
    },
    "language_info": {
      "codemirror_mode": {
        "name": "ipython",
        "version": 3
      },
      "file_extension": ".py",
      "mimetype": "text/x-python",
      "name": "python",
      "nbconvert_exporter": "python",
      "pygments_lexer": "ipython3",
      "version": "3.6.7"
    },
    "colab": {
      "name": "p3_modules.ipynb",
      "version": "0.3.2",
      "provenance": [],
      "collapsed_sections": []
    }
  },
  "cells": [
    {
      "cell_type": "markdown",
      "metadata": {
        "id": "zebr91xCMZ4D",
        "colab_type": "text"
      },
      "source": [
        "# Import modulov\n",
        "\n",
        "Pre Python existuje veľké množstvo hotových balíčkov s užitočnou funkcionalitou. V súčasnosti je to de-facto jazyk umelej inteligencie. Keď sa balíčky nainštalujú, stačí ich importovať v kóde ako moduly – pomocou kľúčového slova ``import``. Napr. modul ``numpy`` sa dá importovať takto:"
      ]
    },
    {
      "cell_type": "code",
      "metadata": {
        "id": "MQZ7FhrTMZ4T",
        "colab_type": "code",
        "colab": {}
      },
      "source": [
        "import numpy"
      ],
      "execution_count": 0,
      "outputs": []
    },
    {
      "cell_type": "markdown",
      "metadata": {
        "id": "7fZrGHQSMZ4m",
        "colab_type": "text"
      },
      "source": [
        "Po importovaní sa už môžeme odkazovať priamo na jednotlivé funkcie a triedy z modulu. Modul ``numpy`` obsahuje veľa užitočných numerických funkcií a tiež nástroje na prácu s poľami a maticami (k tým sa vrátime neskôr). Napr. sínus vyrátame pomocou balíčka ``numpy`` nasledovne:"
      ]
    },
    {
      "cell_type": "code",
      "metadata": {
        "id": "aAf41x-gMZ4q",
        "colab_type": "code",
        "colab": {
          "base_uri": "https://localhost:8080/",
          "height": 34
        },
        "outputId": "703c77e8-6479-4b41-cd45-77bb5842963b"
      },
      "source": [
        "import numpy\n",
        "\n",
        "print(numpy.sin(15))"
      ],
      "execution_count": 2,
      "outputs": [
        {
          "output_type": "stream",
          "text": [
            "0.6502878401571168\n"
          ],
          "name": "stdout"
        }
      ]
    },
    {
      "cell_type": "markdown",
      "metadata": {
        "id": "J6ccIfTSMZ40",
        "colab_type": "text"
      },
      "source": [
        "Často je užitočné dať importovanému modulu nejaký alternatívny, kratší názov. Dá sa to urobiť nasledovne:"
      ]
    },
    {
      "cell_type": "code",
      "metadata": {
        "id": "ANDfnNDmMZ44",
        "colab_type": "code",
        "colab": {
          "base_uri": "https://localhost:8080/",
          "height": 34
        },
        "outputId": "ac9c544d-7bde-49d9-c1d6-973454352c21"
      },
      "source": [
        "import numpy as np\n",
        "\n",
        "print(np.sin(15))"
      ],
      "execution_count": 3,
      "outputs": [
        {
          "output_type": "stream",
          "text": [
            "0.6502878401571168\n"
          ],
          "name": "stdout"
        }
      ]
    },
    {
      "cell_type": "markdown",
      "metadata": {
        "id": "jbmWP10xMZ5A",
        "colab_type": "text"
      },
      "source": [
        "Okrem toho vieme z modulov importovať konkrétne funkcie aj do aktuálneho namespace-u – takže vôbec nemusíme používať názov modulu keď sa na ne odkazujeme, napr.:"
      ]
    },
    {
      "cell_type": "code",
      "metadata": {
        "id": "2MJWIGfjMZ5D",
        "colab_type": "code",
        "colab": {
          "base_uri": "https://localhost:8080/",
          "height": 34
        },
        "outputId": "55280b64-1700-46c9-8584-1ff8af6a90ba"
      },
      "source": [
        "from numpy import sin\n",
        "\n",
        "print(sin(15))"
      ],
      "execution_count": 4,
      "outputs": [
        {
          "output_type": "stream",
          "text": [
            "0.6502878401571168\n"
          ],
          "name": "stdout"
        }
      ]
    },
    {
      "cell_type": "markdown",
      "metadata": {
        "id": "ZTCWnEntMZ5L",
        "colab_type": "text"
      },
      "source": [
        "Z modulu je možné importovať aj všetko, ale táto alternatíva sa používa zriedkakedy, pretože ľahko vedie ku vzniku neusporiadaného a neprehľadného kódu (ľahko sa stane, že funkcia s rovnakým názvom existuje vo viacerých moduloch, čím vznikajú nepredvídané konflikty a pod.):"
      ]
    },
    {
      "cell_type": "code",
      "metadata": {
        "id": "hwKyXULPMZ5O",
        "colab_type": "code",
        "colab": {
          "base_uri": "https://localhost:8080/",
          "height": 34
        },
        "outputId": "f1357fb2-8f7c-412d-cb0c-822cc868d286"
      },
      "source": [
        "from numpy import *\n",
        "\n",
        "print(cos(15))"
      ],
      "execution_count": 5,
      "outputs": [
        {
          "output_type": "stream",
          "text": [
            "-0.7596879128588213\n"
          ],
          "name": "stdout"
        }
      ]
    },
    {
      "cell_type": "markdown",
      "metadata": {
        "id": "nefvJC2qMZ5X",
        "colab_type": "text"
      },
      "source": [
        "<div style=\"background-color: #C2EB66; padding: 15px; padding-top: 5px; margin-top: 10px; margin-left:-15px\">\n",
        "<h2>Úloha</h2>\n",
        "\n",
        "Napíšte pomocou modulu numpy kód, ktorý vypíše hyperbolický tangens čísla 0.95.\n",
        "</div>\n",
        "\n",
        "Pomôcka: [numpy dokumentácia](http://lmgtfy.com/?q=numpy+docs) pre tých, ktorí nevedia používať google. :)"
      ]
    },
    {
      "cell_type": "code",
      "metadata": {
        "id": "AItk8EfkMZ5b",
        "colab_type": "code",
        "colab": {}
      },
      "source": [
        ""
      ],
      "execution_count": 0,
      "outputs": []
    }
  ]
}